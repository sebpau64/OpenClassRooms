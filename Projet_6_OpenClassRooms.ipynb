{
 "cells": [
  {
   "attachments": {
    "Capture%20d%E2%80%99e%CC%81cran%202023-01-18%20a%CC%80%2019.44.08.png": {
     "image/png": "[encoded data removed]"
    }
   },
   "cell_type": "markdown",
   "id": "fe33d43e",
   "metadata": {},
   "source": [
    "![Capture%20d%E2%80%99e%CC%81cran%202023-01-18%20a%CC%80%2019.44.08.png](attachment:Capture%20d%E2%80%99e%CC%81cran%202023-01-18%20a%CC%80%2019.44.08.png)"
   ]
  },
  {
   "cell_type": "markdown",
   "id": "ea7e1a33",
   "metadata": {},
   "source": [
    "# <u> Créer un NOTEBOOK qui visera à analyser les ventes de la librairie LaPage. </u>\n",
    "Le Notebook est constitué de 2 parties.\n",
    "- Une analyse des différents indicateurs de vente, qui ont été demandée directement par Antoine.\n",
    "- Une analyse plus ciblée sur les clients demandée par Julie : l’objectif serait cette fois-ci de comprendre le comportement de clients en ligne, pour pouvoir ensuite comparer avec la connaissance acquise via nos librairies physiques."
   ]
  },
  {
   "cell_type": "code",
   "execution_count": 1,
   "id": "b5859049",
   "metadata": {},
   "outputs": [],
   "source": [
    "import pandas as pd\n",
    "import numpy as np\n",
    "import matplotlib.pyplot as plt\n",
    "import seaborn as sns\n",
    "import datetime as dt\n",
    "import scipy.stats as st\n",
    "from datetime import datetime\n",
    "from scipy.stats import chi2_contingency\n",
    "from scipy.stats import f_oneway\n",
    "from scipy.stats import shapiro\n",
    "from scipy.stats import kstest\n",
    "from scipy.stats import anderson\n",
    "from scipy import stats"
   ]
  },
  {
   "cell_type": "code",
   "execution_count": 2,
   "id": "ccba9817",
   "metadata": {},
   "outputs": [],
   "source": [
    "df_cust = pd.read_csv('customers.csv')\n",
    "df_prod = pd.read_csv('products.csv')\n",
    "df_trans = pd.read_csv('transactions.csv')"
   ]
  },
  {
   "cell_type": "markdown",
   "id": "c20c48e0",
   "metadata": {},
   "source": [
    "## Exploration des données"
   ]
  },
  {
   "cell_type": "code",
   "execution_count": 3,
   "id": "25355781",
   "metadata": {},
   "outputs": [
    {
     "data": {
      "text/html": [
       "<div>\n",
       "<style scoped>\n",
       "    .dataframe tbody tr th:only-of-type {\n",
       "        vertical-align: middle;\n",
       "    }\n",
       "\n",
       "    .dataframe tbody tr th {\n",
       "        vertical-align: top;\n",
       "    }\n",
       "\n",
       "    .dataframe thead th {\n",
       "        text-align: right;\n",
       "    }\n",
       "</style>\n",
       "<table border=\"1\" class=\"dataframe\">\n",
       "  <thead>\n",
       "    <tr style=\"text-align: right;\">\n",
       "      <th></th>\n",
       "      <th>birth</th>\n",
       "    </tr>\n",
       "  </thead>\n",
       "  <tbody>\n",
       "    <tr>\n",
       "      <th>count</th>\n",
       "      <td>8623.000000</td>\n",
       "    </tr>\n",
       "    <tr>\n",
       "      <th>mean</th>\n",
       "      <td>1978.280877</td>\n",
       "    </tr>\n",
       "    <tr>\n",
       "      <th>std</th>\n",
       "      <td>16.919535</td>\n",
       "    </tr>\n",
       "    <tr>\n",
       "      <th>min</th>\n",
       "      <td>1929.000000</td>\n",
       "    </tr>\n",
       "    <tr>\n",
       "      <th>25%</th>\n",
       "      <td>1966.000000</td>\n",
       "    </tr>\n",
       "    <tr>\n",
       "      <th>50%</th>\n",
       "      <td>1979.000000</td>\n",
       "    </tr>\n",
       "    <tr>\n",
       "      <th>75%</th>\n",
       "      <td>1992.000000</td>\n",
       "    </tr>\n",
       "    <tr>\n",
       "      <th>max</th>\n",
       "      <td>2004.000000</td>\n",
       "    </tr>\n",
       "  </tbody>\n",
       "</table>\n",
       "</div>"
      ],
      "text/plain": [
       "             birth\n",
       "count  8623.000000\n",
       "mean   1978.280877\n",
       "std      16.919535\n",
       "min    1929.000000\n",
       "25%    1966.000000\n",
       "50%    1979.000000\n",
       "75%    1992.000000\n",
       "max    2004.000000"
      ]
     },
     "execution_count": 3,
     "metadata": {},
     "output_type": "execute_result"
    }
   ],
   "source": [
    "df_cust.describe()"
   ]
  },
  {
   "cell_type": "code",
   "execution_count": 4,
   "id": "71ca3b3e",
   "metadata": {},
   "outputs": [
    {
     "data": {
      "text/html": [
       "<div>\n",
       "<style scoped>\n",
       "    .dataframe tbody tr th:only-of-type {\n",
       "        vertical-align: middle;\n",
       "    }\n",
       "\n",
       "    .dataframe tbody tr th {\n",
       "        vertical-align: top;\n",
       "    }\n",
       "\n",
       "    .dataframe thead th {\n",
       "        text-align: right;\n",
       "    }\n",
       "</style>\n",
       "<table border=\"1\" class=\"dataframe\">\n",
       "  <thead>\n",
       "    <tr style=\"text-align: right;\">\n",
       "      <th></th>\n",
       "      <th>price</th>\n",
       "      <th>categ</th>\n",
       "    </tr>\n",
       "  </thead>\n",
       "  <tbody>\n",
       "    <tr>\n",
       "      <th>count</th>\n",
       "      <td>3287.000000</td>\n",
       "      <td>3287.000000</td>\n",
       "    </tr>\n",
       "    <tr>\n",
       "      <th>mean</th>\n",
       "      <td>21.856641</td>\n",
       "      <td>0.370246</td>\n",
       "    </tr>\n",
       "    <tr>\n",
       "      <th>std</th>\n",
       "      <td>29.847908</td>\n",
       "      <td>0.615387</td>\n",
       "    </tr>\n",
       "    <tr>\n",
       "      <th>min</th>\n",
       "      <td>-1.000000</td>\n",
       "      <td>0.000000</td>\n",
       "    </tr>\n",
       "    <tr>\n",
       "      <th>25%</th>\n",
       "      <td>6.990000</td>\n",
       "      <td>0.000000</td>\n",
       "    </tr>\n",
       "    <tr>\n",
       "      <th>50%</th>\n",
       "      <td>13.060000</td>\n",
       "      <td>0.000000</td>\n",
       "    </tr>\n",
       "    <tr>\n",
       "      <th>75%</th>\n",
       "      <td>22.990000</td>\n",
       "      <td>1.000000</td>\n",
       "    </tr>\n",
       "    <tr>\n",
       "      <th>max</th>\n",
       "      <td>300.000000</td>\n",
       "      <td>2.000000</td>\n",
       "    </tr>\n",
       "  </tbody>\n",
       "</table>\n",
       "</div>"
      ],
      "text/plain": [
       "             price        categ\n",
       "count  3287.000000  3287.000000\n",
       "mean     21.856641     0.370246\n",
       "std      29.847908     0.615387\n",
       "min      -1.000000     0.000000\n",
       "25%       6.990000     0.000000\n",
       "50%      13.060000     0.000000\n",
       "75%      22.990000     1.000000\n",
       "max     300.000000     2.000000"
      ]
     },
     "execution_count": 4,
     "metadata": {},
     "output_type": "execute_result"
    }
   ],
   "source": [
    "df_prod.describe() # Valeurs negatives, à éliminer sauf si on les vois pas après"
   ]
  },
  {
   "cell_type": "code",
   "execution_count": 5,
   "id": "e00ceaec",
   "metadata": {},
   "outputs": [
    {
     "data": {
      "text/html": [
       "<div>\n",
       "<style scoped>\n",
       "    .dataframe tbody tr th:only-of-type {\n",
       "        vertical-align: middle;\n",
       "    }\n",
       "\n",
       "    .dataframe tbody tr th {\n",
       "        vertical-align: top;\n",
       "    }\n",
       "\n",
       "    .dataframe thead th {\n",
       "        text-align: right;\n",
       "    }\n",
       "</style>\n",
       "<table border=\"1\" class=\"dataframe\">\n",
       "  <thead>\n",
       "    <tr style=\"text-align: right;\">\n",
       "      <th></th>\n",
       "      <th>id_prod</th>\n",
       "      <th>date</th>\n",
       "      <th>session_id</th>\n",
       "      <th>client_id</th>\n",
       "    </tr>\n",
       "  </thead>\n",
       "  <tbody>\n",
       "    <tr>\n",
       "      <th>count</th>\n",
       "      <td>679532</td>\n",
       "      <td>679532</td>\n",
       "      <td>679532</td>\n",
       "      <td>679532</td>\n",
       "    </tr>\n",
       "    <tr>\n",
       "      <th>unique</th>\n",
       "      <td>3267</td>\n",
       "      <td>679371</td>\n",
       "      <td>342316</td>\n",
       "      <td>8602</td>\n",
       "    </tr>\n",
       "    <tr>\n",
       "      <th>top</th>\n",
       "      <td>1_369</td>\n",
       "      <td>test_2021-03-01 02:30:02.237413</td>\n",
       "      <td>s_0</td>\n",
       "      <td>c_1609</td>\n",
       "    </tr>\n",
       "    <tr>\n",
       "      <th>freq</th>\n",
       "      <td>2252</td>\n",
       "      <td>13</td>\n",
       "      <td>200</td>\n",
       "      <td>25488</td>\n",
       "    </tr>\n",
       "  </tbody>\n",
       "</table>\n",
       "</div>"
      ],
      "text/plain": [
       "       id_prod                             date session_id client_id\n",
       "count   679532                           679532     679532    679532\n",
       "unique    3267                           679371     342316      8602\n",
       "top      1_369  test_2021-03-01 02:30:02.237413        s_0    c_1609\n",
       "freq      2252                               13        200     25488"
      ]
     },
     "execution_count": 5,
     "metadata": {},
     "output_type": "execute_result"
    }
   ],
   "source": [
    "df_trans.describe() #Vérifier le type de date (Vérifier aussi date qui commence par \"test\" et session s_0)"
   ]
  },
  {
   "cell_type": "code",
   "execution_count": 6,
   "id": "91c6416c",
   "metadata": {},
   "outputs": [
    {
     "data": {
      "text/html": [
       "<div>\n",
       "<style scoped>\n",
       "    .dataframe tbody tr th:only-of-type {\n",
       "        vertical-align: middle;\n",
       "    }\n",
       "\n",
       "    .dataframe tbody tr th {\n",
       "        vertical-align: top;\n",
       "    }\n",
       "\n",
       "    .dataframe thead th {\n",
       "        text-align: right;\n",
       "    }\n",
       "</style>\n",
       "<table border=\"1\" class=\"dataframe\">\n",
       "  <thead>\n",
       "    <tr style=\"text-align: right;\">\n",
       "      <th></th>\n",
       "      <th>id_prod</th>\n",
       "      <th>date</th>\n",
       "      <th>session_id</th>\n",
       "      <th>client_id</th>\n",
       "    </tr>\n",
       "  </thead>\n",
       "  <tbody>\n",
       "    <tr>\n",
       "      <th>320833</th>\n",
       "      <td>T_0</td>\n",
       "      <td>test_2021-03-01 02:30:02.237447</td>\n",
       "      <td>s_0</td>\n",
       "      <td>ct_1</td>\n",
       "    </tr>\n",
       "    <tr>\n",
       "      <th>561543</th>\n",
       "      <td>T_0</td>\n",
       "      <td>test_2021-03-01 02:30:02.237436</td>\n",
       "      <td>s_0</td>\n",
       "      <td>ct_1</td>\n",
       "    </tr>\n",
       "    <tr>\n",
       "      <th>634523</th>\n",
       "      <td>T_0</td>\n",
       "      <td>test_2021-03-01 02:30:02.237427</td>\n",
       "      <td>s_0</td>\n",
       "      <td>ct_0</td>\n",
       "    </tr>\n",
       "    <tr>\n",
       "      <th>295782</th>\n",
       "      <td>T_0</td>\n",
       "      <td>test_2021-03-01 02:30:02.237418</td>\n",
       "      <td>s_0</td>\n",
       "      <td>ct_1</td>\n",
       "    </tr>\n",
       "    <tr>\n",
       "      <th>237649</th>\n",
       "      <td>T_0</td>\n",
       "      <td>test_2021-03-01 02:30:02.237414</td>\n",
       "      <td>s_0</td>\n",
       "      <td>ct_1</td>\n",
       "    </tr>\n",
       "  </tbody>\n",
       "</table>\n",
       "</div>"
      ],
      "text/plain": [
       "       id_prod                             date session_id client_id\n",
       "320833     T_0  test_2021-03-01 02:30:02.237447        s_0      ct_1\n",
       "561543     T_0  test_2021-03-01 02:30:02.237436        s_0      ct_1\n",
       "634523     T_0  test_2021-03-01 02:30:02.237427        s_0      ct_0\n",
       "295782     T_0  test_2021-03-01 02:30:02.237418        s_0      ct_1\n",
       "237649     T_0  test_2021-03-01 02:30:02.237414        s_0      ct_1"
      ]
     },
     "execution_count": 6,
     "metadata": {},
     "output_type": "execute_result"
    }
   ],
   "source": [
    "df_trans.sort_values(by='session_id').head()"
   ]
  },
  {
   "cell_type": "code",
   "execution_count": 7,
   "id": "37171673",
   "metadata": {},
   "outputs": [
    {
     "data": {
      "text/html": [
       "<div>\n",
       "<style scoped>\n",
       "    .dataframe tbody tr th:only-of-type {\n",
       "        vertical-align: middle;\n",
       "    }\n",
       "\n",
       "    .dataframe tbody tr th {\n",
       "        vertical-align: top;\n",
       "    }\n",
       "\n",
       "    .dataframe thead th {\n",
       "        text-align: right;\n",
       "    }\n",
       "</style>\n",
       "<table border=\"1\" class=\"dataframe\">\n",
       "  <thead>\n",
       "    <tr style=\"text-align: right;\">\n",
       "      <th></th>\n",
       "      <th>id_prod</th>\n",
       "      <th>date</th>\n",
       "      <th>session_id</th>\n",
       "      <th>client_id</th>\n",
       "    </tr>\n",
       "  </thead>\n",
       "  <tbody>\n",
       "    <tr>\n",
       "      <th>0</th>\n",
       "      <td>0_1518</td>\n",
       "      <td>2022-05-20 13:21:29.043970</td>\n",
       "      <td>s_211425</td>\n",
       "      <td>c_103</td>\n",
       "    </tr>\n",
       "    <tr>\n",
       "      <th>1</th>\n",
       "      <td>1_251</td>\n",
       "      <td>2022-02-02 07:55:19.149409</td>\n",
       "      <td>s_158752</td>\n",
       "      <td>c_8534</td>\n",
       "    </tr>\n",
       "    <tr>\n",
       "      <th>2</th>\n",
       "      <td>0_1277</td>\n",
       "      <td>2022-06-18 15:44:33.155329</td>\n",
       "      <td>s_225667</td>\n",
       "      <td>c_6714</td>\n",
       "    </tr>\n",
       "    <tr>\n",
       "      <th>3</th>\n",
       "      <td>2_209</td>\n",
       "      <td>2021-06-24 04:19:29.835891</td>\n",
       "      <td>s_52962</td>\n",
       "      <td>c_6941</td>\n",
       "    </tr>\n",
       "    <tr>\n",
       "      <th>4</th>\n",
       "      <td>0_1509</td>\n",
       "      <td>2023-01-11 08:22:08.194479</td>\n",
       "      <td>s_325227</td>\n",
       "      <td>c_4232</td>\n",
       "    </tr>\n",
       "  </tbody>\n",
       "</table>\n",
       "</div>"
      ],
      "text/plain": [
       "  id_prod                        date session_id client_id\n",
       "0  0_1518  2022-05-20 13:21:29.043970   s_211425     c_103\n",
       "1   1_251  2022-02-02 07:55:19.149409   s_158752    c_8534\n",
       "2  0_1277  2022-06-18 15:44:33.155329   s_225667    c_6714\n",
       "3   2_209  2021-06-24 04:19:29.835891    s_52962    c_6941\n",
       "4  0_1509  2023-01-11 08:22:08.194479   s_325227    c_4232"
      ]
     },
     "execution_count": 7,
     "metadata": {},
     "output_type": "execute_result"
    }
   ],
   "source": [
    "df_trans.head()"
   ]
  },
  {
   "cell_type": "code",
   "execution_count": 8,
   "id": "ae16d974",
   "metadata": {},
   "outputs": [
    {
     "data": {
      "text/plain": [
       "id_prod       object\n",
       "date          object\n",
       "session_id    object\n",
       "client_id     object\n",
       "dtype: object"
      ]
     },
     "execution_count": 8,
     "metadata": {},
     "output_type": "execute_result"
    }
   ],
   "source": [
    "df_trans.dtypes"
   ]
  },
  {
   "cell_type": "code",
   "execution_count": 9,
   "id": "6da35d7b",
   "metadata": {},
   "outputs": [
    {
     "data": {
      "text/html": [
       "<div>\n",
       "<style scoped>\n",
       "    .dataframe tbody tr th:only-of-type {\n",
       "        vertical-align: middle;\n",
       "    }\n",
       "\n",
       "    .dataframe tbody tr th {\n",
       "        vertical-align: top;\n",
       "    }\n",
       "\n",
       "    .dataframe thead th {\n",
       "        text-align: right;\n",
       "    }\n",
       "</style>\n",
       "<table border=\"1\" class=\"dataframe\">\n",
       "  <thead>\n",
       "    <tr style=\"text-align: right;\">\n",
       "      <th></th>\n",
       "      <th>client_id</th>\n",
       "      <th>sex</th>\n",
       "      <th>birth</th>\n",
       "    </tr>\n",
       "  </thead>\n",
       "  <tbody>\n",
       "    <tr>\n",
       "      <th>0</th>\n",
       "      <td>c_4410</td>\n",
       "      <td>f</td>\n",
       "      <td>1967</td>\n",
       "    </tr>\n",
       "    <tr>\n",
       "      <th>1</th>\n",
       "      <td>c_7839</td>\n",
       "      <td>f</td>\n",
       "      <td>1975</td>\n",
       "    </tr>\n",
       "    <tr>\n",
       "      <th>2</th>\n",
       "      <td>c_1699</td>\n",
       "      <td>f</td>\n",
       "      <td>1984</td>\n",
       "    </tr>\n",
       "    <tr>\n",
       "      <th>3</th>\n",
       "      <td>c_5961</td>\n",
       "      <td>f</td>\n",
       "      <td>1962</td>\n",
       "    </tr>\n",
       "    <tr>\n",
       "      <th>4</th>\n",
       "      <td>c_5320</td>\n",
       "      <td>m</td>\n",
       "      <td>1943</td>\n",
       "    </tr>\n",
       "  </tbody>\n",
       "</table>\n",
       "</div>"
      ],
      "text/plain": [
       "  client_id sex  birth\n",
       "0    c_4410   f   1967\n",
       "1    c_7839   f   1975\n",
       "2    c_1699   f   1984\n",
       "3    c_5961   f   1962\n",
       "4    c_5320   m   1943"
      ]
     },
     "execution_count": 9,
     "metadata": {},
     "output_type": "execute_result"
    }
   ],
   "source": [
    "df_cust.head()"
   ]
  },
  {
   "cell_type": "code",
   "execution_count": 10,
   "id": "7432bc81",
   "metadata": {},
   "outputs": [
    {
     "data": {
      "text/plain": [
       "False    679332\n",
       "True        200\n",
       "Name: date, dtype: int64"
      ]
     },
     "execution_count": 10,
     "metadata": {},
     "output_type": "execute_result"
    }
   ],
   "source": [
    "df_trans['date'].str.contains(\"test\").value_counts() # les lignes avec \"test\""
   ]
  },
  {
   "cell_type": "code",
   "execution_count": 11,
   "id": "8a13844d",
   "metadata": {},
   "outputs": [],
   "source": [
    "df_trans = df_trans[df_trans['date'].str.contains(\"test\") == False] #Eliminer les lignes avec une date de 'test'"
   ]
  },
  {
   "cell_type": "code",
   "execution_count": 12,
   "id": "0648e614",
   "metadata": {},
   "outputs": [],
   "source": [
    "df_trans['date'] = pd.to_datetime(df_trans['date']) #Object à date pour les dates"
   ]
  },
  {
   "cell_type": "code",
   "execution_count": 13,
   "id": "faadcfeb",
   "metadata": {},
   "outputs": [
    {
     "data": {
      "text/html": [
       "<div>\n",
       "<style scoped>\n",
       "    .dataframe tbody tr th:only-of-type {\n",
       "        vertical-align: middle;\n",
       "    }\n",
       "\n",
       "    .dataframe tbody tr th {\n",
       "        vertical-align: top;\n",
       "    }\n",
       "\n",
       "    .dataframe thead th {\n",
       "        text-align: right;\n",
       "    }\n",
       "</style>\n",
       "<table border=\"1\" class=\"dataframe\">\n",
       "  <thead>\n",
       "    <tr style=\"text-align: right;\">\n",
       "      <th></th>\n",
       "      <th>id_prod</th>\n",
       "      <th>price</th>\n",
       "      <th>categ</th>\n",
       "    </tr>\n",
       "  </thead>\n",
       "  <tbody>\n",
       "    <tr>\n",
       "      <th>0</th>\n",
       "      <td>0_1421</td>\n",
       "      <td>19.99</td>\n",
       "      <td>0</td>\n",
       "    </tr>\n",
       "    <tr>\n",
       "      <th>1</th>\n",
       "      <td>0_1368</td>\n",
       "      <td>5.13</td>\n",
       "      <td>0</td>\n",
       "    </tr>\n",
       "    <tr>\n",
       "      <th>2</th>\n",
       "      <td>0_731</td>\n",
       "      <td>17.99</td>\n",
       "      <td>0</td>\n",
       "    </tr>\n",
       "    <tr>\n",
       "      <th>3</th>\n",
       "      <td>1_587</td>\n",
       "      <td>4.99</td>\n",
       "      <td>1</td>\n",
       "    </tr>\n",
       "    <tr>\n",
       "      <th>4</th>\n",
       "      <td>0_1507</td>\n",
       "      <td>3.99</td>\n",
       "      <td>0</td>\n",
       "    </tr>\n",
       "  </tbody>\n",
       "</table>\n",
       "</div>"
      ],
      "text/plain": [
       "  id_prod  price  categ\n",
       "0  0_1421  19.99      0\n",
       "1  0_1368   5.13      0\n",
       "2   0_731  17.99      0\n",
       "3   1_587   4.99      1\n",
       "4  0_1507   3.99      0"
      ]
     },
     "execution_count": 13,
     "metadata": {},
     "output_type": "execute_result"
    }
   ],
   "source": [
    "df_prod.head()"
   ]
  },
  {
   "cell_type": "markdown",
   "id": "939e0bdf",
   "metadata": {},
   "source": [
    "## Calculer l'âge des clients"
   ]
  },
  {
   "cell_type": "code",
   "execution_count": 14,
   "id": "8f3abd22",
   "metadata": {},
   "outputs": [],
   "source": [
    "year = datetime.now().year\n",
    "df_cust['age'] = (year - df_cust['birth'])"
   ]
  },
  {
   "cell_type": "code",
   "execution_count": 15,
   "id": "2e993034",
   "metadata": {},
   "outputs": [],
   "source": [
    "df_t_prod = pd.merge(df_trans, df_prod, how='left', on=['id_prod'])"
   ]
  },
  {
   "cell_type": "code",
   "execution_count": 16,
   "id": "dcd48081",
   "metadata": {},
   "outputs": [],
   "source": [
    "df_tpc = pd.merge(df_t_prod, df_cust, how='left', on=['client_id'])"
   ]
  },
  {
   "cell_type": "code",
   "execution_count": 17,
   "id": "489a23dc",
   "metadata": {},
   "outputs": [
    {
     "data": {
      "text/html": [
       "<div>\n",
       "<style scoped>\n",
       "    .dataframe tbody tr th:only-of-type {\n",
       "        vertical-align: middle;\n",
       "    }\n",
       "\n",
       "    .dataframe tbody tr th {\n",
       "        vertical-align: top;\n",
       "    }\n",
       "\n",
       "    .dataframe thead th {\n",
       "        text-align: right;\n",
       "    }\n",
       "</style>\n",
       "<table border=\"1\" class=\"dataframe\">\n",
       "  <thead>\n",
       "    <tr style=\"text-align: right;\">\n",
       "      <th></th>\n",
       "      <th>price</th>\n",
       "      <th>categ</th>\n",
       "      <th>birth</th>\n",
       "      <th>age</th>\n",
       "    </tr>\n",
       "  </thead>\n",
       "  <tbody>\n",
       "    <tr>\n",
       "      <th>count</th>\n",
       "      <td>679111.000000</td>\n",
       "      <td>679111.000000</td>\n",
       "      <td>679332.000000</td>\n",
       "      <td>679332.000000</td>\n",
       "    </tr>\n",
       "    <tr>\n",
       "      <th>mean</th>\n",
       "      <td>17.454773</td>\n",
       "      <td>0.441953</td>\n",
       "      <td>1977.811139</td>\n",
       "      <td>45.188861</td>\n",
       "    </tr>\n",
       "    <tr>\n",
       "      <th>std</th>\n",
       "      <td>18.328998</td>\n",
       "      <td>0.595042</td>\n",
       "      <td>13.574553</td>\n",
       "      <td>13.574553</td>\n",
       "    </tr>\n",
       "    <tr>\n",
       "      <th>min</th>\n",
       "      <td>0.620000</td>\n",
       "      <td>0.000000</td>\n",
       "      <td>1929.000000</td>\n",
       "      <td>19.000000</td>\n",
       "    </tr>\n",
       "    <tr>\n",
       "      <th>25%</th>\n",
       "      <td>8.870000</td>\n",
       "      <td>0.000000</td>\n",
       "      <td>1970.000000</td>\n",
       "      <td>36.000000</td>\n",
       "    </tr>\n",
       "    <tr>\n",
       "      <th>50%</th>\n",
       "      <td>13.990000</td>\n",
       "      <td>0.000000</td>\n",
       "      <td>1980.000000</td>\n",
       "      <td>43.000000</td>\n",
       "    </tr>\n",
       "    <tr>\n",
       "      <th>75%</th>\n",
       "      <td>18.990000</td>\n",
       "      <td>1.000000</td>\n",
       "      <td>1987.000000</td>\n",
       "      <td>53.000000</td>\n",
       "    </tr>\n",
       "    <tr>\n",
       "      <th>max</th>\n",
       "      <td>300.000000</td>\n",
       "      <td>2.000000</td>\n",
       "      <td>2004.000000</td>\n",
       "      <td>94.000000</td>\n",
       "    </tr>\n",
       "  </tbody>\n",
       "</table>\n",
       "</div>"
      ],
      "text/plain": [
       "               price          categ          birth            age\n",
       "count  679111.000000  679111.000000  679332.000000  679332.000000\n",
       "mean       17.454773       0.441953    1977.811139      45.188861\n",
       "std        18.328998       0.595042      13.574553      13.574553\n",
       "min         0.620000       0.000000    1929.000000      19.000000\n",
       "25%         8.870000       0.000000    1970.000000      36.000000\n",
       "50%        13.990000       0.000000    1980.000000      43.000000\n",
       "75%        18.990000       1.000000    1987.000000      53.000000\n",
       "max       300.000000       2.000000    2004.000000      94.000000"
      ]
     },
     "execution_count": 17,
     "metadata": {},
     "output_type": "execute_result"
    }
   ],
   "source": [
    "df_tpc.describe() #(on a eliminé les valeurs negatives)"
   ]
  },
  {
   "cell_type": "code",
   "execution_count": 18,
   "id": "34d64335",
   "metadata": {},
   "outputs": [
    {
     "name": "stdout",
     "output_type": "stream",
     "text": [
      "<class 'pandas.core.frame.DataFrame'>\n",
      "Int64Index: 679332 entries, 0 to 679331\n",
      "Data columns (total 9 columns):\n",
      " #   Column      Non-Null Count   Dtype         \n",
      "---  ------      --------------   -----         \n",
      " 0   id_prod     679332 non-null  object        \n",
      " 1   date        679332 non-null  datetime64[ns]\n",
      " 2   session_id  679332 non-null  object        \n",
      " 3   client_id   679332 non-null  object        \n",
      " 4   price       679111 non-null  float64       \n",
      " 5   categ       679111 non-null  float64       \n",
      " 6   sex         679332 non-null  object        \n",
      " 7   birth       679332 non-null  int64         \n",
      " 8   age         679332 non-null  int64         \n",
      "dtypes: datetime64[ns](1), float64(2), int64(2), object(4)\n",
      "memory usage: 51.8+ MB\n"
     ]
    }
   ],
   "source": [
    "df_tpc.info() #221 valeurs nulles de plus dans price et categ"
   ]
  },
  {
   "cell_type": "code",
   "execution_count": 19,
   "id": "2641aef5",
   "metadata": {},
   "outputs": [
    {
     "data": {
      "text/html": [
       "<div>\n",
       "<style scoped>\n",
       "    .dataframe tbody tr th:only-of-type {\n",
       "        vertical-align: middle;\n",
       "    }\n",
       "\n",
       "    .dataframe tbody tr th {\n",
       "        vertical-align: top;\n",
       "    }\n",
       "\n",
       "    .dataframe thead th {\n",
       "        text-align: right;\n",
       "    }\n",
       "</style>\n",
       "<table border=\"1\" class=\"dataframe\">\n",
       "  <thead>\n",
       "    <tr style=\"text-align: right;\">\n",
       "      <th></th>\n",
       "      <th>id_prod</th>\n",
       "      <th>date</th>\n",
       "      <th>session_id</th>\n",
       "      <th>client_id</th>\n",
       "      <th>price</th>\n",
       "      <th>categ</th>\n",
       "      <th>sex</th>\n",
       "      <th>birth</th>\n",
       "      <th>age</th>\n",
       "    </tr>\n",
       "  </thead>\n",
       "  <tbody>\n",
       "    <tr>\n",
       "      <th>2633</th>\n",
       "      <td>0_2245</td>\n",
       "      <td>2022-09-23 07:22:38.636773</td>\n",
       "      <td>s_272266</td>\n",
       "      <td>c_4746</td>\n",
       "      <td>NaN</td>\n",
       "      <td>NaN</td>\n",
       "      <td>m</td>\n",
       "      <td>1940</td>\n",
       "      <td>83</td>\n",
       "    </tr>\n",
       "    <tr>\n",
       "      <th>10103</th>\n",
       "      <td>0_2245</td>\n",
       "      <td>2022-07-23 09:24:14.133889</td>\n",
       "      <td>s_242482</td>\n",
       "      <td>c_6713</td>\n",
       "      <td>NaN</td>\n",
       "      <td>NaN</td>\n",
       "      <td>f</td>\n",
       "      <td>1963</td>\n",
       "      <td>60</td>\n",
       "    </tr>\n",
       "    <tr>\n",
       "      <th>11723</th>\n",
       "      <td>0_2245</td>\n",
       "      <td>2022-12-03 03:26:35.696673</td>\n",
       "      <td>s_306338</td>\n",
       "      <td>c_5108</td>\n",
       "      <td>NaN</td>\n",
       "      <td>NaN</td>\n",
       "      <td>m</td>\n",
       "      <td>1978</td>\n",
       "      <td>45</td>\n",
       "    </tr>\n",
       "    <tr>\n",
       "      <th>15670</th>\n",
       "      <td>0_2245</td>\n",
       "      <td>2021-08-16 11:33:25.481411</td>\n",
       "      <td>s_76493</td>\n",
       "      <td>c_1391</td>\n",
       "      <td>NaN</td>\n",
       "      <td>NaN</td>\n",
       "      <td>m</td>\n",
       "      <td>1991</td>\n",
       "      <td>32</td>\n",
       "    </tr>\n",
       "    <tr>\n",
       "      <th>16372</th>\n",
       "      <td>0_2245</td>\n",
       "      <td>2022-07-16 05:53:01.627491</td>\n",
       "      <td>s_239078</td>\n",
       "      <td>c_7954</td>\n",
       "      <td>NaN</td>\n",
       "      <td>NaN</td>\n",
       "      <td>m</td>\n",
       "      <td>1973</td>\n",
       "      <td>50</td>\n",
       "    </tr>\n",
       "    <tr>\n",
       "      <th>...</th>\n",
       "      <td>...</td>\n",
       "      <td>...</td>\n",
       "      <td>...</td>\n",
       "      <td>...</td>\n",
       "      <td>...</td>\n",
       "      <td>...</td>\n",
       "      <td>...</td>\n",
       "      <td>...</td>\n",
       "      <td>...</td>\n",
       "    </tr>\n",
       "    <tr>\n",
       "      <th>669533</th>\n",
       "      <td>0_2245</td>\n",
       "      <td>2021-08-25 09:06:03.504061</td>\n",
       "      <td>s_80395</td>\n",
       "      <td>c_131</td>\n",
       "      <td>NaN</td>\n",
       "      <td>NaN</td>\n",
       "      <td>m</td>\n",
       "      <td>1981</td>\n",
       "      <td>42</td>\n",
       "    </tr>\n",
       "    <tr>\n",
       "      <th>670484</th>\n",
       "      <td>0_2245</td>\n",
       "      <td>2022-03-06 19:59:19.462288</td>\n",
       "      <td>s_175311</td>\n",
       "      <td>c_4167</td>\n",
       "      <td>NaN</td>\n",
       "      <td>NaN</td>\n",
       "      <td>f</td>\n",
       "      <td>1979</td>\n",
       "      <td>44</td>\n",
       "    </tr>\n",
       "    <tr>\n",
       "      <th>671088</th>\n",
       "      <td>0_2245</td>\n",
       "      <td>2022-05-16 11:35:20.319501</td>\n",
       "      <td>s_209381</td>\n",
       "      <td>c_4453</td>\n",
       "      <td>NaN</td>\n",
       "      <td>NaN</td>\n",
       "      <td>m</td>\n",
       "      <td>1981</td>\n",
       "      <td>42</td>\n",
       "    </tr>\n",
       "    <tr>\n",
       "      <th>675480</th>\n",
       "      <td>0_2245</td>\n",
       "      <td>2022-02-11 09:05:43.952857</td>\n",
       "      <td>s_163405</td>\n",
       "      <td>c_1098</td>\n",
       "      <td>NaN</td>\n",
       "      <td>NaN</td>\n",
       "      <td>m</td>\n",
       "      <td>1986</td>\n",
       "      <td>37</td>\n",
       "    </tr>\n",
       "    <tr>\n",
       "      <th>677797</th>\n",
       "      <td>0_2245</td>\n",
       "      <td>2021-12-14 22:34:54.589921</td>\n",
       "      <td>s_134446</td>\n",
       "      <td>c_4854</td>\n",
       "      <td>NaN</td>\n",
       "      <td>NaN</td>\n",
       "      <td>m</td>\n",
       "      <td>1968</td>\n",
       "      <td>55</td>\n",
       "    </tr>\n",
       "  </tbody>\n",
       "</table>\n",
       "<p>221 rows × 9 columns</p>\n",
       "</div>"
      ],
      "text/plain": [
       "       id_prod                       date session_id client_id  price  categ  \\\n",
       "2633    0_2245 2022-09-23 07:22:38.636773   s_272266    c_4746    NaN    NaN   \n",
       "10103   0_2245 2022-07-23 09:24:14.133889   s_242482    c_6713    NaN    NaN   \n",
       "11723   0_2245 2022-12-03 03:26:35.696673   s_306338    c_5108    NaN    NaN   \n",
       "15670   0_2245 2021-08-16 11:33:25.481411    s_76493    c_1391    NaN    NaN   \n",
       "16372   0_2245 2022-07-16 05:53:01.627491   s_239078    c_7954    NaN    NaN   \n",
       "...        ...                        ...        ...       ...    ...    ...   \n",
       "669533  0_2245 2021-08-25 09:06:03.504061    s_80395     c_131    NaN    NaN   \n",
       "670484  0_2245 2022-03-06 19:59:19.462288   s_175311    c_4167    NaN    NaN   \n",
       "671088  0_2245 2022-05-16 11:35:20.319501   s_209381    c_4453    NaN    NaN   \n",
       "675480  0_2245 2022-02-11 09:05:43.952857   s_163405    c_1098    NaN    NaN   \n",
       "677797  0_2245 2021-12-14 22:34:54.589921   s_134446    c_4854    NaN    NaN   \n",
       "\n",
       "       sex  birth  age  \n",
       "2633     m   1940   83  \n",
       "10103    f   1963   60  \n",
       "11723    m   1978   45  \n",
       "15670    m   1991   32  \n",
       "16372    m   1973   50  \n",
       "...     ..    ...  ...  \n",
       "669533   m   1981   42  \n",
       "670484   f   1979   44  \n",
       "671088   m   1981   42  \n",
       "675480   m   1986   37  \n",
       "677797   m   1968   55  \n",
       "\n",
       "[221 rows x 9 columns]"
      ]
     },
     "execution_count": 19,
     "metadata": {},
     "output_type": "execute_result"
    }
   ],
   "source": [
    "df_tpc[(df_tpc['price'].isnull()) & (df_tpc['categ'].isnull())] "
   ]
  },
  {
   "cell_type": "code",
   "execution_count": 20,
   "id": "d7de2932",
   "metadata": {},
   "outputs": [
    {
     "name": "stdout",
     "output_type": "stream",
     "text": [
      "<class 'pandas.core.frame.DataFrame'>\n",
      "Int64Index: 679111 entries, 0 to 679331\n",
      "Data columns (total 9 columns):\n",
      " #   Column      Non-Null Count   Dtype         \n",
      "---  ------      --------------   -----         \n",
      " 0   id_prod     679111 non-null  object        \n",
      " 1   date        679111 non-null  datetime64[ns]\n",
      " 2   session_id  679111 non-null  object        \n",
      " 3   client_id   679111 non-null  object        \n",
      " 4   price       679111 non-null  float64       \n",
      " 5   categ       679111 non-null  float64       \n",
      " 6   sex         679111 non-null  object        \n",
      " 7   birth       679111 non-null  int64         \n",
      " 8   age         679111 non-null  int64         \n",
      "dtypes: datetime64[ns](1), float64(2), int64(2), object(4)\n",
      "memory usage: 51.8+ MB\n"
     ]
    }
   ],
   "source": [
    "df_tpc.dropna(inplace=True)#Eliminer si on n'en a pas des valeurs de prix et categ (On sait que c'est catégorie 0)\n",
    "df_tpc.info()"
   ]
  },
  {
   "cell_type": "code",
   "execution_count": 21,
   "id": "d01a88c4",
   "metadata": {},
   "outputs": [
    {
     "data": {
      "text/html": [
       "<div>\n",
       "<style scoped>\n",
       "    .dataframe tbody tr th:only-of-type {\n",
       "        vertical-align: middle;\n",
       "    }\n",
       "\n",
       "    .dataframe tbody tr th {\n",
       "        vertical-align: top;\n",
       "    }\n",
       "\n",
       "    .dataframe thead th {\n",
       "        text-align: right;\n",
       "    }\n",
       "</style>\n",
       "<table border=\"1\" class=\"dataframe\">\n",
       "  <thead>\n",
       "    <tr style=\"text-align: right;\">\n",
       "      <th></th>\n",
       "      <th>id_prod</th>\n",
       "      <th>date</th>\n",
       "      <th>session_id</th>\n",
       "      <th>client_id</th>\n",
       "      <th>price</th>\n",
       "      <th>categ</th>\n",
       "      <th>sex</th>\n",
       "      <th>birth</th>\n",
       "      <th>age</th>\n",
       "    </tr>\n",
       "  </thead>\n",
       "  <tbody>\n",
       "    <tr>\n",
       "      <th>0</th>\n",
       "      <td>0_1518</td>\n",
       "      <td>2022-05-20 13:21:29.043970</td>\n",
       "      <td>s_211425</td>\n",
       "      <td>c_103</td>\n",
       "      <td>4.18</td>\n",
       "      <td>0.0</td>\n",
       "      <td>f</td>\n",
       "      <td>1986</td>\n",
       "      <td>37</td>\n",
       "    </tr>\n",
       "    <tr>\n",
       "      <th>1</th>\n",
       "      <td>1_251</td>\n",
       "      <td>2022-02-02 07:55:19.149409</td>\n",
       "      <td>s_158752</td>\n",
       "      <td>c_8534</td>\n",
       "      <td>15.99</td>\n",
       "      <td>1.0</td>\n",
       "      <td>m</td>\n",
       "      <td>1988</td>\n",
       "      <td>35</td>\n",
       "    </tr>\n",
       "    <tr>\n",
       "      <th>2</th>\n",
       "      <td>0_1277</td>\n",
       "      <td>2022-06-18 15:44:33.155329</td>\n",
       "      <td>s_225667</td>\n",
       "      <td>c_6714</td>\n",
       "      <td>7.99</td>\n",
       "      <td>0.0</td>\n",
       "      <td>f</td>\n",
       "      <td>1968</td>\n",
       "      <td>55</td>\n",
       "    </tr>\n",
       "    <tr>\n",
       "      <th>3</th>\n",
       "      <td>2_209</td>\n",
       "      <td>2021-06-24 04:19:29.835891</td>\n",
       "      <td>s_52962</td>\n",
       "      <td>c_6941</td>\n",
       "      <td>69.99</td>\n",
       "      <td>2.0</td>\n",
       "      <td>m</td>\n",
       "      <td>2000</td>\n",
       "      <td>23</td>\n",
       "    </tr>\n",
       "    <tr>\n",
       "      <th>4</th>\n",
       "      <td>0_1509</td>\n",
       "      <td>2023-01-11 08:22:08.194479</td>\n",
       "      <td>s_325227</td>\n",
       "      <td>c_4232</td>\n",
       "      <td>4.99</td>\n",
       "      <td>0.0</td>\n",
       "      <td>m</td>\n",
       "      <td>1980</td>\n",
       "      <td>43</td>\n",
       "    </tr>\n",
       "  </tbody>\n",
       "</table>\n",
       "</div>"
      ],
      "text/plain": [
       "  id_prod                       date session_id client_id  price  categ sex  \\\n",
       "0  0_1518 2022-05-20 13:21:29.043970   s_211425     c_103   4.18    0.0   f   \n",
       "1   1_251 2022-02-02 07:55:19.149409   s_158752    c_8534  15.99    1.0   m   \n",
       "2  0_1277 2022-06-18 15:44:33.155329   s_225667    c_6714   7.99    0.0   f   \n",
       "3   2_209 2021-06-24 04:19:29.835891    s_52962    c_6941  69.99    2.0   m   \n",
       "4  0_1509 2023-01-11 08:22:08.194479   s_325227    c_4232   4.99    0.0   m   \n",
       "\n",
       "   birth  age  \n",
       "0   1986   37  \n",
       "1   1988   35  \n",
       "2   1968   55  \n",
       "3   2000   23  \n",
       "4   1980   43  "
      ]
     },
     "execution_count": 21,
     "metadata": {},
     "output_type": "execute_result"
    }
   ],
   "source": [
    "df_tpc.head()"
   ]
  },
  {
   "cell_type": "code",
   "execution_count": 22,
   "id": "4da3128c",
   "metadata": {},
   "outputs": [],
   "source": [
    "df_tpc['categ'] = df_tpc[\"categ\"].astype(int) "
   ]
  },
  {
   "cell_type": "code",
   "execution_count": 23,
   "id": "b229538a",
   "metadata": {},
   "outputs": [
    {
     "data": {
      "text/plain": [
       "date\n",
       "1     1042879.54\n",
       "2      992251.26\n",
       "3      997897.14\n",
       "4      969108.24\n",
       "5     1010076.07\n",
       "6      980104.68\n",
       "7      993618.52\n",
       "8      988752.06\n",
       "9     1001355.21\n",
       "10     828716.51\n",
       "11    1012832.67\n",
       "12    1036136.78\n",
       "Name: price, dtype: float64"
      ]
     },
     "execution_count": 23,
     "metadata": {},
     "output_type": "execute_result"
    }
   ],
   "source": [
    "df_tpc.groupby(df_tpc.date.dt.month)['price'].sum() #par mois tous ans confondus"
   ]
  },
  {
   "cell_type": "code",
   "execution_count": 24,
   "id": "03f5c492",
   "metadata": {},
   "outputs": [],
   "source": [
    "df_ca = df_tpc.groupby(df_tpc['date'].dt.to_period('W'))['price'].sum() #Par semaine\n",
    "df_ca = pd.DataFrame(df_ca)\n",
    "df_ca = df_ca.rename(columns = {'price':\"Chiffre d'affaires\"})"
   ]
  },
  {
   "cell_type": "code",
   "execution_count": 25,
   "id": "4825250e",
   "metadata": {},
   "outputs": [
    {
     "data": {
      "text/html": [
       "<div>\n",
       "<style scoped>\n",
       "    .dataframe tbody tr th:only-of-type {\n",
       "        vertical-align: middle;\n",
       "    }\n",
       "\n",
       "    .dataframe tbody tr th {\n",
       "        vertical-align: top;\n",
       "    }\n",
       "\n",
       "    .dataframe thead th {\n",
       "        text-align: right;\n",
       "    }\n",
       "</style>\n",
       "<table border=\"1\" class=\"dataframe\">\n",
       "  <thead>\n",
       "    <tr style=\"text-align: right;\">\n",
       "      <th></th>\n",
       "      <th>Chiffre d'affaires</th>\n",
       "    </tr>\n",
       "    <tr>\n",
       "      <th>date</th>\n",
       "      <th></th>\n",
       "    </tr>\n",
       "  </thead>\n",
       "  <tbody>\n",
       "    <tr>\n",
       "      <th>2021-03-01/2021-03-07</th>\n",
       "      <td>110463.28</td>\n",
       "    </tr>\n",
       "    <tr>\n",
       "      <th>2021-03-08/2021-03-14</th>\n",
       "      <td>105693.24</td>\n",
       "    </tr>\n",
       "    <tr>\n",
       "      <th>2021-03-15/2021-03-21</th>\n",
       "      <td>112059.08</td>\n",
       "    </tr>\n",
       "    <tr>\n",
       "      <th>2021-03-22/2021-03-28</th>\n",
       "      <td>109441.07</td>\n",
       "    </tr>\n",
       "    <tr>\n",
       "      <th>2021-03-29/2021-04-04</th>\n",
       "      <td>107895.66</td>\n",
       "    </tr>\n",
       "  </tbody>\n",
       "</table>\n",
       "</div>"
      ],
      "text/plain": [
       "                       Chiffre d'affaires\n",
       "date                                     \n",
       "2021-03-01/2021-03-07           110463.28\n",
       "2021-03-08/2021-03-14           105693.24\n",
       "2021-03-15/2021-03-21           112059.08\n",
       "2021-03-22/2021-03-28           109441.07\n",
       "2021-03-29/2021-04-04           107895.66"
      ]
     },
     "execution_count": 25,
     "metadata": {},
     "output_type": "execute_result"
    }
   ],
   "source": [
    "df_ca.head()"
   ]
  },
  {
   "cell_type": "code",
   "execution_count": 26,
   "id": "919e2429",
   "metadata": {},
   "outputs": [
    {
     "data": {
      "text/plain": [
       "Chiffre d'affaires    float64\n",
       "dtype: object"
      ]
     },
     "execution_count": 26,
     "metadata": {},
     "output_type": "execute_result"
    }
   ],
   "source": [
    "df_ca.dtypes"
   ]
  },
  {
   "cell_type": "code",
   "execution_count": 27,
   "id": "2c5f8b0c",
   "metadata": {},
   "outputs": [
    {
     "data": {
      "text/html": [
       "<div>\n",
       "<style scoped>\n",
       "    .dataframe tbody tr th:only-of-type {\n",
       "        vertical-align: middle;\n",
       "    }\n",
       "\n",
       "    .dataframe tbody tr th {\n",
       "        vertical-align: top;\n",
       "    }\n",
       "\n",
       "    .dataframe thead th {\n",
       "        text-align: right;\n",
       "    }\n",
       "</style>\n",
       "<table border=\"1\" class=\"dataframe\">\n",
       "  <thead>\n",
       "    <tr style=\"text-align: right;\">\n",
       "      <th></th>\n",
       "      <th>Chiffre d'affaires</th>\n",
       "      <th>Moyenne Mobile</th>\n",
       "    </tr>\n",
       "    <tr>\n",
       "      <th>date</th>\n",
       "      <th></th>\n",
       "      <th></th>\n",
       "    </tr>\n",
       "  </thead>\n",
       "  <tbody>\n",
       "    <tr>\n",
       "      <th>2021-04-19/2021-04-25</th>\n",
       "      <td>112798.95</td>\n",
       "      <td>109883.00625</td>\n",
       "    </tr>\n",
       "    <tr>\n",
       "      <th>2021-04-26/2021-05-02</th>\n",
       "      <td>110675.79</td>\n",
       "      <td>109909.57000</td>\n",
       "    </tr>\n",
       "    <tr>\n",
       "      <th>2021-05-03/2021-05-09</th>\n",
       "      <td>115403.87</td>\n",
       "      <td>111123.39875</td>\n",
       "    </tr>\n",
       "    <tr>\n",
       "      <th>2021-05-10/2021-05-16</th>\n",
       "      <td>109169.44</td>\n",
       "      <td>110762.19375</td>\n",
       "    </tr>\n",
       "    <tr>\n",
       "      <th>2021-05-17/2021-05-23</th>\n",
       "      <td>108816.77</td>\n",
       "      <td>110684.15625</td>\n",
       "    </tr>\n",
       "  </tbody>\n",
       "</table>\n",
       "</div>"
      ],
      "text/plain": [
       "                       Chiffre d'affaires  Moyenne Mobile\n",
       "date                                                     \n",
       "2021-04-19/2021-04-25           112798.95    109883.00625\n",
       "2021-04-26/2021-05-02           110675.79    109909.57000\n",
       "2021-05-03/2021-05-09           115403.87    111123.39875\n",
       "2021-05-10/2021-05-16           109169.44    110762.19375\n",
       "2021-05-17/2021-05-23           108816.77    110684.15625"
      ]
     },
     "execution_count": 27,
     "metadata": {},
     "output_type": "execute_result"
    }
   ],
   "source": [
    "df_ca['Moyenne Mobile'] = df_ca[\"Chiffre d'affaires\" ].rolling(8).mean() #Moyenne mobile on peut varier le range\n",
    "df_ca.dropna(inplace=True)\n",
    "df_ca.head()"
   ]
  },
  {
   "cell_type": "markdown",
   "id": "94164886",
   "metadata": {},
   "source": [
    "## 1_Evolution CA et sa moyenne Mobile"
   ]
  },
  {
   "cell_type": "code",
   "execution_count": 28,
   "id": "5c9b14c2",
   "metadata": {},
   "outputs": [
    {
     "data": {
      "image/png": "[encoded data removed]",
      "text/plain": [
       "<Figure size 1152x576 with 1 Axes>"
      ]
     },
     "metadata": {
      "needs_background": "light"
     },
     "output_type": "display_data"
    }
   ],
   "source": [
    "df_ca[[\"Chiffre d'affaires\", 'Moyenne Mobile']].plot(label=\"Date\", figsize=(16, 8))\n",
    "plt.title('Evolution de CA', fontsize=16, y=1, weight='bold')\n",
    "plt.ylabel(\"Chiffre d'affaires\",fontsize=12, weight='bold')\n",
    "plt.xlabel('Date',fontsize=12, weight='bold')\n",
    "plt.show()"
   ]
  },
  {
   "cell_type": "code",
   "execution_count": 29,
   "id": "9143e53e",
   "metadata": {},
   "outputs": [],
   "source": [
    "#Voir le mois d'octobre 2021 avec une CA moins importante que le reste\n",
    "#dernières semaines on peut les enlever pour ne pas montrer une baisse de CA"
   ]
  },
  {
   "cell_type": "code",
   "execution_count": 30,
   "id": "3e79c46a",
   "metadata": {},
   "outputs": [],
   "source": [
    "## ????? Requete de Antoine: \n",
    "# Il serait également intéressant de faire un zoom sur les références, pour voir un peu les tops et les flops, la répartition par catégorie, etc."
   ]
  },
  {
   "cell_type": "markdown",
   "id": "68e0863a",
   "metadata": {},
   "source": [
    "## 2_Evolution de CA par categorie"
   ]
  },
  {
   "cell_type": "code",
   "execution_count": 31,
   "id": "3793cd7e",
   "metadata": {},
   "outputs": [
    {
     "data": {
      "text/plain": [
       "categ\n",
       "0    4419730.97\n",
       "1    4653722.69\n",
       "2    2780275.02\n",
       "Name: price, dtype: float64"
      ]
     },
     "execution_count": 31,
     "metadata": {},
     "output_type": "execute_result"
    }
   ],
   "source": [
    "df_tpc.groupby(by=df_tpc['categ'])['price'].sum()"
   ]
  },
  {
   "cell_type": "code",
   "execution_count": 32,
   "id": "6c869723",
   "metadata": {},
   "outputs": [
    {
     "data": {
      "image/png": "[encoded data removed]",
      "text/plain": [
       "<Figure size 576x216 with 1 Axes>"
      ]
     },
     "metadata": {
      "needs_background": "light"
     },
     "output_type": "display_data"
    }
   ],
   "source": [
    "# Distribution et moyenne des prix par catégorie\n",
    "plt.figure(figsize=(8,3))\n",
    "sns.boxplot(data=df_tpc, y='categ', x='price', orient='h', showfliers=False, showmeans=True, meanprops={\"marker\":\"D\",\"markerfacecolor\":\"firebrick\"})\n",
    "plt.title('Prix par catégorie', fontsize=16, y=1.2, weight='bold')\n",
    "plt.show()"
   ]
  },
  {
   "cell_type": "code",
   "execution_count": 33,
   "id": "d4acc39a",
   "metadata": {},
   "outputs": [
    {
     "name": "stdout",
     "output_type": "stream",
     "text": [
      "Le prix moyen de la catégorie 0 est : 10.64 €\n",
      "Le prix moyen de la catégorie 1 est : 20.49 €\n",
      "Le prix moyen de la catégorie 2 est : 76.21 €\n"
     ]
    }
   ],
   "source": [
    "prix_moyen_categ = df_tpc.groupby(['categ']).price.mean()\n",
    "for i in [0, 1, 2]:\n",
    "    print(f'Le prix moyen de la catégorie {i} est :', round(prix_moyen_categ[i], 2), \"€\")"
   ]
  },
  {
   "cell_type": "code",
   "execution_count": 34,
   "id": "2fe8ed8a",
   "metadata": {},
   "outputs": [],
   "source": [
    "df_ca_date = pd.DataFrame(df_tpc.groupby([df_tpc['date'].dt.to_period('W'),'categ'])['price'].sum())"
   ]
  },
  {
   "cell_type": "code",
   "execution_count": 35,
   "id": "efbf8815",
   "metadata": {},
   "outputs": [
    {
     "data": {
      "text/html": [
       "<div>\n",
       "<style scoped>\n",
       "    .dataframe tbody tr th:only-of-type {\n",
       "        vertical-align: middle;\n",
       "    }\n",
       "\n",
       "    .dataframe tbody tr th {\n",
       "        vertical-align: top;\n",
       "    }\n",
       "\n",
       "    .dataframe thead th {\n",
       "        text-align: right;\n",
       "    }\n",
       "</style>\n",
       "<table border=\"1\" class=\"dataframe\">\n",
       "  <thead>\n",
       "    <tr style=\"text-align: right;\">\n",
       "      <th></th>\n",
       "      <th></th>\n",
       "      <th>price</th>\n",
       "    </tr>\n",
       "    <tr>\n",
       "      <th>date</th>\n",
       "      <th>categ</th>\n",
       "      <th></th>\n",
       "    </tr>\n",
       "  </thead>\n",
       "  <tbody>\n",
       "    <tr>\n",
       "      <th rowspan=\"3\" valign=\"top\">2021-03-01/2021-03-07</th>\n",
       "      <th>0</th>\n",
       "      <td>43832.65</td>\n",
       "    </tr>\n",
       "    <tr>\n",
       "      <th>1</th>\n",
       "      <td>42774.98</td>\n",
       "    </tr>\n",
       "    <tr>\n",
       "      <th>2</th>\n",
       "      <td>23855.65</td>\n",
       "    </tr>\n",
       "    <tr>\n",
       "      <th rowspan=\"2\" valign=\"top\">2021-03-08/2021-03-14</th>\n",
       "      <th>0</th>\n",
       "      <td>44167.01</td>\n",
       "    </tr>\n",
       "    <tr>\n",
       "      <th>1</th>\n",
       "      <td>40491.84</td>\n",
       "    </tr>\n",
       "  </tbody>\n",
       "</table>\n",
       "</div>"
      ],
      "text/plain": [
       "                                price\n",
       "date                  categ          \n",
       "2021-03-01/2021-03-07 0      43832.65\n",
       "                      1      42774.98\n",
       "                      2      23855.65\n",
       "2021-03-08/2021-03-14 0      44167.01\n",
       "                      1      40491.84"
      ]
     },
     "execution_count": 35,
     "metadata": {},
     "output_type": "execute_result"
    }
   ],
   "source": [
    "df_ca_date.head()"
   ]
  },
  {
   "cell_type": "code",
   "execution_count": 36,
   "id": "6a74adb6",
   "metadata": {},
   "outputs": [
    {
     "data": {
      "image/png": "[encoded data removed]",
      "text/plain": [
       "<Figure size 1152x576 with 1 Axes>"
      ]
     },
     "metadata": {
      "needs_background": "light"
     },
     "output_type": "display_data"
    }
   ],
   "source": [
    "df_ca_date.groupby('categ')['price'].plot(legend=True, figsize=(16, 8))\n",
    "plt.title('Evolution de CA par catégorie', fontsize=16, y=1, weight='bold')\n",
    "plt.ylabel(\"Chiffre d'affaires\",fontsize=12, weight='bold')\n",
    "plt.xlabel('Date',fontsize=12, weight='bold')\n",
    "plt.show()"
   ]
  },
  {
   "cell_type": "code",
   "execution_count": 37,
   "id": "c671194a",
   "metadata": {},
   "outputs": [
    {
     "data": {
      "image/png": "[encoded data removed]",
      "text/plain": [
       "<Figure size 1008x432 with 1 Axes>"
      ]
     },
     "metadata": {
      "needs_background": "light"
     },
     "output_type": "display_data"
    }
   ],
   "source": [
    "plt.figure(figsize=(14,6)) #pas de ventes de catégorie 1 pendant des semaines de Octobre 2021\n",
    "sns.histplot(data=df_tpc, x='date', hue='categ')\n",
    "plt.xticks(rotation=45)\n",
    "plt.title('Ventes par date et catégorie', fontsize=16, y=1, weight='bold')\n",
    "plt.ylabel(\"Nombre de ventes\",fontsize=12, weight='bold')\n",
    "plt.xlabel('Date',fontsize=12, weight='bold')\n",
    "plt.show()"
   ]
  },
  {
   "cell_type": "code",
   "execution_count": 38,
   "id": "e96fc7e0",
   "metadata": {},
   "outputs": [
    {
     "data": {
      "image/png": "[encoded data removed]",
      "text/plain": [
       "<Figure size 432x288 with 1 Axes>"
      ]
     },
     "metadata": {},
     "output_type": "display_data"
    }
   ],
   "source": [
    "labels = ['Catég 0', 'Catég 1', 'Catég 2']\n",
    "df_tpc.groupby('categ').size().plot(kind='pie', labels=labels, autopct='%.1f%%', pctdistance=0.75, textprops={'fontsize': 18}, radius=1.2)\n",
    "plt.title(\"Proportion de ventes par catégorie\", fontsize=16, y=1.2, weight='bold')\n",
    "plt.legend('', frameon=False)\n",
    "plt.ylabel('')\n",
    "plt.show()"
   ]
  },
  {
   "cell_type": "markdown",
   "id": "f5e2c70b",
   "metadata": {},
   "source": [
    "## Les produits les plus vendus (Best Sellers)"
   ]
  },
  {
   "cell_type": "code",
   "execution_count": 39,
   "id": "3d5c5efd",
   "metadata": {},
   "outputs": [],
   "source": [
    "# Produits les plus vendus toutes categories confondues\n",
    "df_pp = df_tpc.groupby(['id_prod', 'categ']).count()\n",
    "df_pp.reset_index(inplace=True)\n",
    "df_pp.rename(columns = {'date':'Ventes'}, inplace=True)\n",
    "df_pp = df_pp.sort_values(by='Ventes', ascending=False)"
   ]
  },
  {
   "cell_type": "code",
   "execution_count": 40,
   "id": "44b5c98a",
   "metadata": {},
   "outputs": [
    {
     "data": {
      "text/html": [
       "<div>\n",
       "<style scoped>\n",
       "    .dataframe tbody tr th:only-of-type {\n",
       "        vertical-align: middle;\n",
       "    }\n",
       "\n",
       "    .dataframe tbody tr th {\n",
       "        vertical-align: top;\n",
       "    }\n",
       "\n",
       "    .dataframe thead th {\n",
       "        text-align: right;\n",
       "    }\n",
       "</style>\n",
       "<table border=\"1\" class=\"dataframe\">\n",
       "  <thead>\n",
       "    <tr style=\"text-align: right;\">\n",
       "      <th></th>\n",
       "      <th>id_prod</th>\n",
       "      <th>Ventes</th>\n",
       "    </tr>\n",
       "    <tr>\n",
       "      <th>categ</th>\n",
       "      <th></th>\n",
       "      <th></th>\n",
       "    </tr>\n",
       "  </thead>\n",
       "  <tbody>\n",
       "    <tr>\n",
       "      <th>0</th>\n",
       "      <td>0_1422</td>\n",
       "      <td>1292</td>\n",
       "    </tr>\n",
       "    <tr>\n",
       "      <th>1</th>\n",
       "      <td>1_369</td>\n",
       "      <td>2252</td>\n",
       "    </tr>\n",
       "    <tr>\n",
       "      <th>2</th>\n",
       "      <td>2_102</td>\n",
       "      <td>1027</td>\n",
       "    </tr>\n",
       "  </tbody>\n",
       "</table>\n",
       "</div>"
      ],
      "text/plain": [
       "      id_prod  Ventes\n",
       "categ                \n",
       "0      0_1422    1292\n",
       "1       1_369    2252\n",
       "2       2_102    1027"
      ]
     },
     "execution_count": 40,
     "metadata": {},
     "output_type": "execute_result"
    }
   ],
   "source": [
    "# Produits les plus vendus toutes categories (le plus vendu par categorie)\n",
    "df_pp = df_pp[['id_prod', 'categ', 'Ventes']]\n",
    "df_pp = df_pp.groupby(by=['categ']).nth(0)\n",
    "\n",
    "df_pp"
   ]
  },
  {
   "cell_type": "code",
   "execution_count": 41,
   "id": "879eb0cb",
   "metadata": {},
   "outputs": [],
   "source": [
    "#Enfin, j’aimerais avoir quelques informations sur les profils de nos clients, \n",
    "#et également la répartition du chiffre d'affaires entre eux, via par exemple une courbe de Lorenz. ???\n",
    "#Après, toutes les informations et tous graphiques qui apporteraient de l’information pertinente sont les bienvenus !"
   ]
  },
  {
   "cell_type": "code",
   "execution_count": 42,
   "id": "7d362481",
   "metadata": {},
   "outputs": [],
   "source": [
    "#Une analyse des différents indicateurs de vente, qui a été demandée directement par Antoine. Je t’ai mis en pièce jointe l’e-mail qu’il m’a envoyé résumant ses demandes.\n",
    "#Une analyse plus ciblée sur les clients : l’objectif serait cette fois-ci de comprendre le comportement de nos clients en ligne, pour pouvoir ensuite comparer avec la connaissance acquise via nos librairies physiques. Pour cela, je t’invite à voir avec Julie, qui te précisera directement ses demandes à ce niveau."
   ]
  },
  {
   "cell_type": "code",
   "execution_count": 43,
   "id": "71e1d6d5",
   "metadata": {},
   "outputs": [],
   "source": [
    "df_conso = df_tpc.groupby(['client_id'])['price'].sum().reset_index()"
   ]
  },
  {
   "cell_type": "code",
   "execution_count": 44,
   "id": "1a438550",
   "metadata": {},
   "outputs": [
    {
     "data": {
      "text/html": [
       "<div>\n",
       "<style scoped>\n",
       "    .dataframe tbody tr th:only-of-type {\n",
       "        vertical-align: middle;\n",
       "    }\n",
       "\n",
       "    .dataframe tbody tr th {\n",
       "        vertical-align: top;\n",
       "    }\n",
       "\n",
       "    .dataframe thead th {\n",
       "        text-align: right;\n",
       "    }\n",
       "</style>\n",
       "<table border=\"1\" class=\"dataframe\">\n",
       "  <thead>\n",
       "    <tr style=\"text-align: right;\">\n",
       "      <th></th>\n",
       "      <th>client_id</th>\n",
       "      <th>Chiffre d'affaires</th>\n",
       "    </tr>\n",
       "  </thead>\n",
       "  <tbody>\n",
       "    <tr>\n",
       "      <th>0</th>\n",
       "      <td>c_1</td>\n",
       "      <td>558.18</td>\n",
       "    </tr>\n",
       "    <tr>\n",
       "      <th>1</th>\n",
       "      <td>c_10</td>\n",
       "      <td>1353.60</td>\n",
       "    </tr>\n",
       "    <tr>\n",
       "      <th>2</th>\n",
       "      <td>c_100</td>\n",
       "      <td>254.85</td>\n",
       "    </tr>\n",
       "    <tr>\n",
       "      <th>3</th>\n",
       "      <td>c_1000</td>\n",
       "      <td>2261.89</td>\n",
       "    </tr>\n",
       "    <tr>\n",
       "      <th>4</th>\n",
       "      <td>c_1001</td>\n",
       "      <td>1812.86</td>\n",
       "    </tr>\n",
       "    <tr>\n",
       "      <th>5</th>\n",
       "      <td>c_1002</td>\n",
       "      <td>415.78</td>\n",
       "    </tr>\n",
       "    <tr>\n",
       "      <th>6</th>\n",
       "      <td>c_1003</td>\n",
       "      <td>1209.84</td>\n",
       "    </tr>\n",
       "    <tr>\n",
       "      <th>7</th>\n",
       "      <td>c_1004</td>\n",
       "      <td>1016.30</td>\n",
       "    </tr>\n",
       "    <tr>\n",
       "      <th>8</th>\n",
       "      <td>c_1005</td>\n",
       "      <td>844.93</td>\n",
       "    </tr>\n",
       "    <tr>\n",
       "      <th>9</th>\n",
       "      <td>c_1006</td>\n",
       "      <td>3982.01</td>\n",
       "    </tr>\n",
       "  </tbody>\n",
       "</table>\n",
       "</div>"
      ],
      "text/plain": [
       "  client_id  Chiffre d'affaires\n",
       "0       c_1              558.18\n",
       "1      c_10             1353.60\n",
       "2     c_100              254.85\n",
       "3    c_1000             2261.89\n",
       "4    c_1001             1812.86\n",
       "5    c_1002              415.78\n",
       "6    c_1003             1209.84\n",
       "7    c_1004             1016.30\n",
       "8    c_1005              844.93\n",
       "9    c_1006             3982.01"
      ]
     },
     "execution_count": 44,
     "metadata": {},
     "output_type": "execute_result"
    }
   ],
   "source": [
    "df_conso.sort_values(by='price',ascending=False).head(10) # 4 Clients pro?\n",
    "df_conso.rename(columns = {'price':\"Chiffre d'affaires\"}, inplace= True)\n",
    "df_conso.head(10)"
   ]
  },
  {
   "cell_type": "markdown",
   "id": "f10bafba",
   "metadata": {},
   "source": [
    "## Les clients pro"
   ]
  },
  {
   "cell_type": "code",
   "execution_count": 45,
   "id": "148ef454",
   "metadata": {},
   "outputs": [
    {
     "data": {
      "text/html": [
       "<div>\n",
       "<style scoped>\n",
       "    .dataframe tbody tr th:only-of-type {\n",
       "        vertical-align: middle;\n",
       "    }\n",
       "\n",
       "    .dataframe tbody tr th {\n",
       "        vertical-align: top;\n",
       "    }\n",
       "\n",
       "    .dataframe thead th {\n",
       "        text-align: right;\n",
       "    }\n",
       "</style>\n",
       "<table border=\"1\" class=\"dataframe\">\n",
       "  <thead>\n",
       "    <tr style=\"text-align: right;\">\n",
       "      <th></th>\n",
       "      <th>client_id</th>\n",
       "      <th>Chiffre d'affaires</th>\n",
       "      <th>Pourcentage</th>\n",
       "    </tr>\n",
       "  </thead>\n",
       "  <tbody>\n",
       "    <tr>\n",
       "      <th>677</th>\n",
       "      <td>c_1609</td>\n",
       "      <td>324033.35</td>\n",
       "      <td>2.73</td>\n",
       "    </tr>\n",
       "    <tr>\n",
       "      <th>4388</th>\n",
       "      <td>c_4958</td>\n",
       "      <td>289760.34</td>\n",
       "      <td>2.44</td>\n",
       "    </tr>\n",
       "    <tr>\n",
       "      <th>6337</th>\n",
       "      <td>c_6714</td>\n",
       "      <td>153598.92</td>\n",
       "      <td>1.30</td>\n",
       "    </tr>\n",
       "    <tr>\n",
       "      <th>2724</th>\n",
       "      <td>c_3454</td>\n",
       "      <td>113637.93</td>\n",
       "      <td>0.96</td>\n",
       "    </tr>\n",
       "    <tr>\n",
       "      <th>268</th>\n",
       "      <td>c_1240</td>\n",
       "      <td>4225.63</td>\n",
       "      <td>0.04</td>\n",
       "    </tr>\n",
       "  </tbody>\n",
       "</table>\n",
       "</div>"
      ],
      "text/plain": [
       "     client_id  Chiffre d'affaires  Pourcentage\n",
       "677     c_1609           324033.35         2.73\n",
       "4388    c_4958           289760.34         2.44\n",
       "6337    c_6714           153598.92         1.30\n",
       "2724    c_3454           113637.93         0.96\n",
       "268     c_1240             4225.63         0.04"
      ]
     },
     "execution_count": 45,
     "metadata": {},
     "output_type": "execute_result"
    }
   ],
   "source": [
    "df_conso['Pourcentage'] = round((df_conso[\"Chiffre d'affaires\"])/(df_conso[\"Chiffre d'affaires\"].sum())*100, 2)\n",
    "df_conso.sort_values(by='Pourcentage', ascending=False).head()"
   ]
  },
  {
   "cell_type": "code",
   "execution_count": 46,
   "id": "9c3890e6",
   "metadata": {},
   "outputs": [
    {
     "data": {
      "text/html": [
       "<div>\n",
       "<style scoped>\n",
       "    .dataframe tbody tr th:only-of-type {\n",
       "        vertical-align: middle;\n",
       "    }\n",
       "\n",
       "    .dataframe tbody tr th {\n",
       "        vertical-align: top;\n",
       "    }\n",
       "\n",
       "    .dataframe thead th {\n",
       "        text-align: right;\n",
       "    }\n",
       "</style>\n",
       "<table border=\"1\" class=\"dataframe\">\n",
       "  <thead>\n",
       "    <tr style=\"text-align: right;\">\n",
       "      <th></th>\n",
       "      <th>id_prod</th>\n",
       "      <th>date</th>\n",
       "      <th>session_id</th>\n",
       "      <th>client_id</th>\n",
       "      <th>price</th>\n",
       "      <th>categ</th>\n",
       "      <th>sex</th>\n",
       "      <th>birth</th>\n",
       "      <th>age</th>\n",
       "    </tr>\n",
       "  </thead>\n",
       "  <tbody>\n",
       "    <tr>\n",
       "      <th>679314</th>\n",
       "      <td>0_1160</td>\n",
       "      <td>2021-11-09 21:41:41.807534</td>\n",
       "      <td>s_117240</td>\n",
       "      <td>c_1609</td>\n",
       "      <td>17.87</td>\n",
       "      <td>0</td>\n",
       "      <td>m</td>\n",
       "      <td>1980</td>\n",
       "      <td>43</td>\n",
       "    </tr>\n",
       "    <tr>\n",
       "      <th>338056</th>\n",
       "      <td>1_126</td>\n",
       "      <td>2022-06-30 16:57:20.135907</td>\n",
       "      <td>s_231529</td>\n",
       "      <td>c_1609</td>\n",
       "      <td>18.60</td>\n",
       "      <td>1</td>\n",
       "      <td>m</td>\n",
       "      <td>1980</td>\n",
       "      <td>43</td>\n",
       "    </tr>\n",
       "    <tr>\n",
       "      <th>612064</th>\n",
       "      <td>0_1440</td>\n",
       "      <td>2022-05-11 03:54:06.362037</td>\n",
       "      <td>s_206756</td>\n",
       "      <td>c_1609</td>\n",
       "      <td>5.62</td>\n",
       "      <td>0</td>\n",
       "      <td>m</td>\n",
       "      <td>1980</td>\n",
       "      <td>43</td>\n",
       "    </tr>\n",
       "    <tr>\n",
       "      <th>337975</th>\n",
       "      <td>1_441</td>\n",
       "      <td>2022-07-29 22:56:07.922895</td>\n",
       "      <td>s_245618</td>\n",
       "      <td>c_1609</td>\n",
       "      <td>24.99</td>\n",
       "      <td>1</td>\n",
       "      <td>m</td>\n",
       "      <td>1980</td>\n",
       "      <td>43</td>\n",
       "    </tr>\n",
       "    <tr>\n",
       "      <th>337953</th>\n",
       "      <td>0_1246</td>\n",
       "      <td>2022-01-28 14:11:35.948557</td>\n",
       "      <td>s_156458</td>\n",
       "      <td>c_1609</td>\n",
       "      <td>7.01</td>\n",
       "      <td>0</td>\n",
       "      <td>m</td>\n",
       "      <td>1980</td>\n",
       "      <td>43</td>\n",
       "    </tr>\n",
       "    <tr>\n",
       "      <th>...</th>\n",
       "      <td>...</td>\n",
       "      <td>...</td>\n",
       "      <td>...</td>\n",
       "      <td>...</td>\n",
       "      <td>...</td>\n",
       "      <td>...</td>\n",
       "      <td>...</td>\n",
       "      <td>...</td>\n",
       "      <td>...</td>\n",
       "    </tr>\n",
       "    <tr>\n",
       "      <th>378897</th>\n",
       "      <td>1_367</td>\n",
       "      <td>2021-03-03 07:58:34.566989</td>\n",
       "      <td>s_1106</td>\n",
       "      <td>c_6714</td>\n",
       "      <td>13.99</td>\n",
       "      <td>1</td>\n",
       "      <td>f</td>\n",
       "      <td>1968</td>\n",
       "      <td>55</td>\n",
       "    </tr>\n",
       "    <tr>\n",
       "      <th>378909</th>\n",
       "      <td>1_488</td>\n",
       "      <td>2021-05-17 19:35:55.016796</td>\n",
       "      <td>s_35869</td>\n",
       "      <td>c_6714</td>\n",
       "      <td>12.19</td>\n",
       "      <td>1</td>\n",
       "      <td>f</td>\n",
       "      <td>1968</td>\n",
       "      <td>55</td>\n",
       "    </tr>\n",
       "    <tr>\n",
       "      <th>378977</th>\n",
       "      <td>1_299</td>\n",
       "      <td>2021-06-25 06:34:04.510333</td>\n",
       "      <td>s_53455</td>\n",
       "      <td>c_6714</td>\n",
       "      <td>13.99</td>\n",
       "      <td>1</td>\n",
       "      <td>f</td>\n",
       "      <td>1968</td>\n",
       "      <td>55</td>\n",
       "    </tr>\n",
       "    <tr>\n",
       "      <th>377999</th>\n",
       "      <td>1_250</td>\n",
       "      <td>2021-06-10 04:27:04.690191</td>\n",
       "      <td>s_46568</td>\n",
       "      <td>c_6714</td>\n",
       "      <td>20.76</td>\n",
       "      <td>1</td>\n",
       "      <td>f</td>\n",
       "      <td>1968</td>\n",
       "      <td>55</td>\n",
       "    </tr>\n",
       "    <tr>\n",
       "      <th>339413</th>\n",
       "      <td>0_1852</td>\n",
       "      <td>2022-04-25 02:04:04.972305</td>\n",
       "      <td>s_199051</td>\n",
       "      <td>c_6714</td>\n",
       "      <td>7.67</td>\n",
       "      <td>0</td>\n",
       "      <td>f</td>\n",
       "      <td>1968</td>\n",
       "      <td>55</td>\n",
       "    </tr>\n",
       "  </tbody>\n",
       "</table>\n",
       "<p>46634 rows × 9 columns</p>\n",
       "</div>"
      ],
      "text/plain": [
       "       id_prod                       date session_id client_id  price  categ  \\\n",
       "679314  0_1160 2021-11-09 21:41:41.807534   s_117240    c_1609  17.87      0   \n",
       "338056   1_126 2022-06-30 16:57:20.135907   s_231529    c_1609  18.60      1   \n",
       "612064  0_1440 2022-05-11 03:54:06.362037   s_206756    c_1609   5.62      0   \n",
       "337975   1_441 2022-07-29 22:56:07.922895   s_245618    c_1609  24.99      1   \n",
       "337953  0_1246 2022-01-28 14:11:35.948557   s_156458    c_1609   7.01      0   \n",
       "...        ...                        ...        ...       ...    ...    ...   \n",
       "378897   1_367 2021-03-03 07:58:34.566989     s_1106    c_6714  13.99      1   \n",
       "378909   1_488 2021-05-17 19:35:55.016796    s_35869    c_6714  12.19      1   \n",
       "378977   1_299 2021-06-25 06:34:04.510333    s_53455    c_6714  13.99      1   \n",
       "377999   1_250 2021-06-10 04:27:04.690191    s_46568    c_6714  20.76      1   \n",
       "339413  0_1852 2022-04-25 02:04:04.972305   s_199051    c_6714   7.67      0   \n",
       "\n",
       "       sex  birth  age  \n",
       "679314   m   1980   43  \n",
       "338056   m   1980   43  \n",
       "612064   m   1980   43  \n",
       "337975   m   1980   43  \n",
       "337953   m   1980   43  \n",
       "...     ..    ...  ...  \n",
       "378897   f   1968   55  \n",
       "378909   f   1968   55  \n",
       "378977   f   1968   55  \n",
       "377999   f   1968   55  \n",
       "339413   f   1968   55  \n",
       "\n",
       "[46634 rows x 9 columns]"
      ]
     },
     "execution_count": 46,
     "metadata": {},
     "output_type": "execute_result"
    }
   ],
   "source": [
    "df_pro = df_tpc.loc[(df_tpc['client_id']==\"c_1609\")|(df_tpc['client_id']==\"c_4958\")|(df_tpc['client_id']==\"c_6714\")|(df_tpc['client_id']==\"c_3454\")]\n",
    "df_pro.sort_values(by='client_id')"
   ]
  },
  {
   "cell_type": "code",
   "execution_count": 47,
   "id": "c00a9e6c",
   "metadata": {},
   "outputs": [
    {
     "data": {
      "text/html": [
       "<div>\n",
       "<style scoped>\n",
       "    .dataframe tbody tr th:only-of-type {\n",
       "        vertical-align: middle;\n",
       "    }\n",
       "\n",
       "    .dataframe tbody tr th {\n",
       "        vertical-align: top;\n",
       "    }\n",
       "\n",
       "    .dataframe thead th {\n",
       "        text-align: right;\n",
       "    }\n",
       "</style>\n",
       "<table border=\"1\" class=\"dataframe\">\n",
       "  <thead>\n",
       "    <tr style=\"text-align: right;\">\n",
       "      <th></th>\n",
       "      <th></th>\n",
       "      <th>price</th>\n",
       "    </tr>\n",
       "    <tr>\n",
       "      <th>client_id</th>\n",
       "      <th>categ</th>\n",
       "      <th></th>\n",
       "    </tr>\n",
       "  </thead>\n",
       "  <tbody>\n",
       "    <tr>\n",
       "      <th rowspan=\"3\" valign=\"top\">c_1609</th>\n",
       "      <th>0</th>\n",
       "      <td>10.633572</td>\n",
       "    </tr>\n",
       "    <tr>\n",
       "      <th>1</th>\n",
       "      <td>20.354972</td>\n",
       "    </tr>\n",
       "    <tr>\n",
       "      <th>2</th>\n",
       "      <td>136.473636</td>\n",
       "    </tr>\n",
       "    <tr>\n",
       "      <th rowspan=\"3\" valign=\"top\">c_3454</th>\n",
       "      <th>0</th>\n",
       "      <td>10.671001</td>\n",
       "    </tr>\n",
       "    <tr>\n",
       "      <th>1</th>\n",
       "      <td>20.612335</td>\n",
       "    </tr>\n",
       "    <tr>\n",
       "      <th>2</th>\n",
       "      <td>70.845556</td>\n",
       "    </tr>\n",
       "    <tr>\n",
       "      <th rowspan=\"3\" valign=\"top\">c_4958</th>\n",
       "      <th>0</th>\n",
       "      <td>12.190000</td>\n",
       "    </tr>\n",
       "    <tr>\n",
       "      <th>1</th>\n",
       "      <td>20.855530</td>\n",
       "    </tr>\n",
       "    <tr>\n",
       "      <th>2</th>\n",
       "      <td>75.790596</td>\n",
       "    </tr>\n",
       "    <tr>\n",
       "      <th rowspan=\"3\" valign=\"top\">c_6714</th>\n",
       "      <th>0</th>\n",
       "      <td>10.782409</td>\n",
       "    </tr>\n",
       "    <tr>\n",
       "      <th>1</th>\n",
       "      <td>20.528739</td>\n",
       "    </tr>\n",
       "    <tr>\n",
       "      <th>2</th>\n",
       "      <td>76.230330</td>\n",
       "    </tr>\n",
       "  </tbody>\n",
       "</table>\n",
       "</div>"
      ],
      "text/plain": [
       "                      price\n",
       "client_id categ            \n",
       "c_1609    0       10.633572\n",
       "          1       20.354972\n",
       "          2      136.473636\n",
       "c_3454    0       10.671001\n",
       "          1       20.612335\n",
       "          2       70.845556\n",
       "c_4958    0       12.190000\n",
       "          1       20.855530\n",
       "          2       75.790596\n",
       "c_6714    0       10.782409\n",
       "          1       20.528739\n",
       "          2       76.230330"
      ]
     },
     "execution_count": 47,
     "metadata": {},
     "output_type": "execute_result"
    }
   ],
   "source": [
    "df_pro_pt = pd.pivot_table(df_pro, values='price', index=['client_id', 'categ'])\n",
    "df_pro_pt"
   ]
  },
  {
   "cell_type": "code",
   "execution_count": 48,
   "id": "27392551",
   "metadata": {},
   "outputs": [
    {
     "data": {
      "image/png": "[encoded data removed]",
      "text/plain": [
       "<Figure size 432x288 with 1 Axes>"
      ]
     },
     "metadata": {
      "needs_background": "light"
     },
     "output_type": "display_data"
    }
   ],
   "source": [
    "sns.countplot(data=df_pro, x='client_id', hue='categ', order = df_pro['client_id'].value_counts().index)\n",
    "plt.title('Achats des clients pro par catégorie', fontsize=16, y=1.1, weight='bold')\n",
    "plt.ylabel(\"Nombre d'achats\",fontsize=12, weight='bold')\n",
    "plt.xlabel('Client',fontsize=12, weight='bold')\n",
    "plt.show()"
   ]
  },
  {
   "cell_type": "code",
   "execution_count": 49,
   "id": "8a8944e4",
   "metadata": {},
   "outputs": [
    {
     "data": {
      "text/html": [
       "<div>\n",
       "<style scoped>\n",
       "    .dataframe tbody tr th:only-of-type {\n",
       "        vertical-align: middle;\n",
       "    }\n",
       "\n",
       "    .dataframe tbody tr th {\n",
       "        vertical-align: top;\n",
       "    }\n",
       "\n",
       "    .dataframe thead th {\n",
       "        text-align: right;\n",
       "    }\n",
       "</style>\n",
       "<table border=\"1\" class=\"dataframe\">\n",
       "  <thead>\n",
       "    <tr style=\"text-align: right;\">\n",
       "      <th></th>\n",
       "      <th>client_id</th>\n",
       "      <th>Chiffre d'affaires</th>\n",
       "      <th>Pourcentage</th>\n",
       "      <th>sex</th>\n",
       "      <th>birth</th>\n",
       "      <th>age</th>\n",
       "    </tr>\n",
       "  </thead>\n",
       "  <tbody>\n",
       "    <tr>\n",
       "      <th>0</th>\n",
       "      <td>c_1</td>\n",
       "      <td>558.18</td>\n",
       "      <td>0.00</td>\n",
       "      <td>m</td>\n",
       "      <td>1955</td>\n",
       "      <td>68</td>\n",
       "    </tr>\n",
       "    <tr>\n",
       "      <th>1</th>\n",
       "      <td>c_10</td>\n",
       "      <td>1353.60</td>\n",
       "      <td>0.01</td>\n",
       "      <td>m</td>\n",
       "      <td>1956</td>\n",
       "      <td>67</td>\n",
       "    </tr>\n",
       "    <tr>\n",
       "      <th>2</th>\n",
       "      <td>c_100</td>\n",
       "      <td>254.85</td>\n",
       "      <td>0.00</td>\n",
       "      <td>m</td>\n",
       "      <td>1992</td>\n",
       "      <td>31</td>\n",
       "    </tr>\n",
       "    <tr>\n",
       "      <th>3</th>\n",
       "      <td>c_1000</td>\n",
       "      <td>2261.89</td>\n",
       "      <td>0.02</td>\n",
       "      <td>f</td>\n",
       "      <td>1966</td>\n",
       "      <td>57</td>\n",
       "    </tr>\n",
       "    <tr>\n",
       "      <th>4</th>\n",
       "      <td>c_1001</td>\n",
       "      <td>1812.86</td>\n",
       "      <td>0.02</td>\n",
       "      <td>m</td>\n",
       "      <td>1982</td>\n",
       "      <td>41</td>\n",
       "    </tr>\n",
       "    <tr>\n",
       "      <th>...</th>\n",
       "      <td>...</td>\n",
       "      <td>...</td>\n",
       "      <td>...</td>\n",
       "      <td>...</td>\n",
       "      <td>...</td>\n",
       "      <td>...</td>\n",
       "    </tr>\n",
       "    <tr>\n",
       "      <th>8595</th>\n",
       "      <td>c_995</td>\n",
       "      <td>189.41</td>\n",
       "      <td>0.00</td>\n",
       "      <td>m</td>\n",
       "      <td>1955</td>\n",
       "      <td>68</td>\n",
       "    </tr>\n",
       "    <tr>\n",
       "      <th>8596</th>\n",
       "      <td>c_996</td>\n",
       "      <td>1625.58</td>\n",
       "      <td>0.01</td>\n",
       "      <td>f</td>\n",
       "      <td>1970</td>\n",
       "      <td>53</td>\n",
       "    </tr>\n",
       "    <tr>\n",
       "      <th>8597</th>\n",
       "      <td>c_997</td>\n",
       "      <td>1490.01</td>\n",
       "      <td>0.01</td>\n",
       "      <td>f</td>\n",
       "      <td>1994</td>\n",
       "      <td>29</td>\n",
       "    </tr>\n",
       "    <tr>\n",
       "      <th>8598</th>\n",
       "      <td>c_998</td>\n",
       "      <td>2779.88</td>\n",
       "      <td>0.02</td>\n",
       "      <td>m</td>\n",
       "      <td>2001</td>\n",
       "      <td>22</td>\n",
       "    </tr>\n",
       "    <tr>\n",
       "      <th>8599</th>\n",
       "      <td>c_999</td>\n",
       "      <td>701.40</td>\n",
       "      <td>0.01</td>\n",
       "      <td>m</td>\n",
       "      <td>1964</td>\n",
       "      <td>59</td>\n",
       "    </tr>\n",
       "  </tbody>\n",
       "</table>\n",
       "<p>8600 rows × 6 columns</p>\n",
       "</div>"
      ],
      "text/plain": [
       "     client_id  Chiffre d'affaires  Pourcentage sex  birth  age\n",
       "0          c_1              558.18         0.00   m   1955   68\n",
       "1         c_10             1353.60         0.01   m   1956   67\n",
       "2        c_100              254.85         0.00   m   1992   31\n",
       "3       c_1000             2261.89         0.02   f   1966   57\n",
       "4       c_1001             1812.86         0.02   m   1982   41\n",
       "...        ...                 ...          ...  ..    ...  ...\n",
       "8595     c_995              189.41         0.00   m   1955   68\n",
       "8596     c_996             1625.58         0.01   f   1970   53\n",
       "8597     c_997             1490.01         0.01   f   1994   29\n",
       "8598     c_998             2779.88         0.02   m   2001   22\n",
       "8599     c_999              701.40         0.01   m   1964   59\n",
       "\n",
       "[8600 rows x 6 columns]"
      ]
     },
     "execution_count": 49,
     "metadata": {},
     "output_type": "execute_result"
    }
   ],
   "source": [
    "df_age = pd.merge(df_conso, df_cust, how='left', on=['client_id'])\n",
    "df_age"
   ]
  },
  {
   "cell_type": "code",
   "execution_count": 50,
   "id": "ef267b62",
   "metadata": {},
   "outputs": [
    {
     "data": {
      "text/html": [
       "<div>\n",
       "<style scoped>\n",
       "    .dataframe tbody tr th:only-of-type {\n",
       "        vertical-align: middle;\n",
       "    }\n",
       "\n",
       "    .dataframe tbody tr th {\n",
       "        vertical-align: top;\n",
       "    }\n",
       "\n",
       "    .dataframe thead th {\n",
       "        text-align: right;\n",
       "    }\n",
       "</style>\n",
       "<table border=\"1\" class=\"dataframe\">\n",
       "  <thead>\n",
       "    <tr style=\"text-align: right;\">\n",
       "      <th></th>\n",
       "      <th>id_prod</th>\n",
       "      <th>date</th>\n",
       "      <th>session_id</th>\n",
       "      <th>client_id</th>\n",
       "      <th>price</th>\n",
       "      <th>categ</th>\n",
       "      <th>sex</th>\n",
       "      <th>birth</th>\n",
       "      <th>age</th>\n",
       "      <th>date_fixe</th>\n",
       "      <th>total_ventes</th>\n",
       "      <th>ventes_mensuelles</th>\n",
       "    </tr>\n",
       "  </thead>\n",
       "  <tbody>\n",
       "    <tr>\n",
       "      <th>449848</th>\n",
       "      <td>0_1571</td>\n",
       "      <td>2022-07-01 01:47:04.355850</td>\n",
       "      <td>s_231729</td>\n",
       "      <td>c_1</td>\n",
       "      <td>5.99</td>\n",
       "      <td>0</td>\n",
       "      <td>m</td>\n",
       "      <td>1955</td>\n",
       "      <td>68</td>\n",
       "      <td>2022-07-01</td>\n",
       "      <td>39</td>\n",
       "      <td>3.0</td>\n",
       "    </tr>\n",
       "    <tr>\n",
       "      <th>542680</th>\n",
       "      <td>0_1547</td>\n",
       "      <td>2022-05-08 08:27:49.586711</td>\n",
       "      <td>s_205377</td>\n",
       "      <td>c_1</td>\n",
       "      <td>8.99</td>\n",
       "      <td>0</td>\n",
       "      <td>m</td>\n",
       "      <td>1955</td>\n",
       "      <td>68</td>\n",
       "      <td>2022-05-08</td>\n",
       "      <td>39</td>\n",
       "      <td>3.0</td>\n",
       "    </tr>\n",
       "    <tr>\n",
       "      <th>169172</th>\n",
       "      <td>0_1475</td>\n",
       "      <td>2022-06-27 10:30:00.293075</td>\n",
       "      <td>s_230001</td>\n",
       "      <td>c_1</td>\n",
       "      <td>11.99</td>\n",
       "      <td>0</td>\n",
       "      <td>m</td>\n",
       "      <td>1955</td>\n",
       "      <td>68</td>\n",
       "      <td>2022-06-27</td>\n",
       "      <td>39</td>\n",
       "      <td>3.0</td>\n",
       "    </tr>\n",
       "    <tr>\n",
       "      <th>318801</th>\n",
       "      <td>0_1880</td>\n",
       "      <td>2021-11-04 18:37:01.482109</td>\n",
       "      <td>s_114737</td>\n",
       "      <td>c_1</td>\n",
       "      <td>14.91</td>\n",
       "      <td>0</td>\n",
       "      <td>m</td>\n",
       "      <td>1955</td>\n",
       "      <td>68</td>\n",
       "      <td>2021-11-04</td>\n",
       "      <td>39</td>\n",
       "      <td>3.0</td>\n",
       "    </tr>\n",
       "    <tr>\n",
       "      <th>583828</th>\n",
       "      <td>0_1090</td>\n",
       "      <td>2021-12-19 02:44:12.827475</td>\n",
       "      <td>s_136532</td>\n",
       "      <td>c_1</td>\n",
       "      <td>13.78</td>\n",
       "      <td>0</td>\n",
       "      <td>m</td>\n",
       "      <td>1955</td>\n",
       "      <td>68</td>\n",
       "      <td>2021-12-19</td>\n",
       "      <td>39</td>\n",
       "      <td>3.0</td>\n",
       "    </tr>\n",
       "    <tr>\n",
       "      <th>...</th>\n",
       "      <td>...</td>\n",
       "      <td>...</td>\n",
       "      <td>...</td>\n",
       "      <td>...</td>\n",
       "      <td>...</td>\n",
       "      <td>...</td>\n",
       "      <td>...</td>\n",
       "      <td>...</td>\n",
       "      <td>...</td>\n",
       "      <td>...</td>\n",
       "      <td>...</td>\n",
       "      <td>...</td>\n",
       "    </tr>\n",
       "    <tr>\n",
       "      <th>308937</th>\n",
       "      <td>0_1442</td>\n",
       "      <td>2023-01-28 13:12:42.429052</td>\n",
       "      <td>s_333631</td>\n",
       "      <td>c_999</td>\n",
       "      <td>4.89</td>\n",
       "      <td>0</td>\n",
       "      <td>m</td>\n",
       "      <td>1964</td>\n",
       "      <td>59</td>\n",
       "      <td>2023-01-28</td>\n",
       "      <td>46</td>\n",
       "      <td>4.0</td>\n",
       "    </tr>\n",
       "    <tr>\n",
       "      <th>235560</th>\n",
       "      <td>1_395</td>\n",
       "      <td>2021-08-23 16:44:27.072834</td>\n",
       "      <td>s_79695</td>\n",
       "      <td>c_999</td>\n",
       "      <td>28.99</td>\n",
       "      <td>1</td>\n",
       "      <td>m</td>\n",
       "      <td>1964</td>\n",
       "      <td>59</td>\n",
       "      <td>2021-08-23</td>\n",
       "      <td>46</td>\n",
       "      <td>4.0</td>\n",
       "    </tr>\n",
       "    <tr>\n",
       "      <th>92930</th>\n",
       "      <td>0_1426</td>\n",
       "      <td>2021-09-10 02:44:13.556163</td>\n",
       "      <td>s_87567</td>\n",
       "      <td>c_999</td>\n",
       "      <td>13.44</td>\n",
       "      <td>0</td>\n",
       "      <td>m</td>\n",
       "      <td>1964</td>\n",
       "      <td>59</td>\n",
       "      <td>2021-09-10</td>\n",
       "      <td>46</td>\n",
       "      <td>4.0</td>\n",
       "    </tr>\n",
       "    <tr>\n",
       "      <th>385190</th>\n",
       "      <td>0_2104</td>\n",
       "      <td>2021-10-02 20:31:58.645109</td>\n",
       "      <td>s_99070</td>\n",
       "      <td>c_999</td>\n",
       "      <td>7.98</td>\n",
       "      <td>0</td>\n",
       "      <td>m</td>\n",
       "      <td>1964</td>\n",
       "      <td>59</td>\n",
       "      <td>2021-10-02</td>\n",
       "      <td>46</td>\n",
       "      <td>4.0</td>\n",
       "    </tr>\n",
       "    <tr>\n",
       "      <th>585923</th>\n",
       "      <td>0_1743</td>\n",
       "      <td>2021-09-07 21:27:09.304623</td>\n",
       "      <td>s_86516</td>\n",
       "      <td>c_999</td>\n",
       "      <td>5.99</td>\n",
       "      <td>0</td>\n",
       "      <td>m</td>\n",
       "      <td>1964</td>\n",
       "      <td>59</td>\n",
       "      <td>2021-09-07</td>\n",
       "      <td>46</td>\n",
       "      <td>4.0</td>\n",
       "    </tr>\n",
       "  </tbody>\n",
       "</table>\n",
       "<p>679111 rows × 12 columns</p>\n",
       "</div>"
      ],
      "text/plain": [
       "       id_prod                       date session_id client_id  price  categ  \\\n",
       "449848  0_1571 2022-07-01 01:47:04.355850   s_231729       c_1   5.99      0   \n",
       "542680  0_1547 2022-05-08 08:27:49.586711   s_205377       c_1   8.99      0   \n",
       "169172  0_1475 2022-06-27 10:30:00.293075   s_230001       c_1  11.99      0   \n",
       "318801  0_1880 2021-11-04 18:37:01.482109   s_114737       c_1  14.91      0   \n",
       "583828  0_1090 2021-12-19 02:44:12.827475   s_136532       c_1  13.78      0   \n",
       "...        ...                        ...        ...       ...    ...    ...   \n",
       "308937  0_1442 2023-01-28 13:12:42.429052   s_333631     c_999   4.89      0   \n",
       "235560   1_395 2021-08-23 16:44:27.072834    s_79695     c_999  28.99      1   \n",
       "92930   0_1426 2021-09-10 02:44:13.556163    s_87567     c_999  13.44      0   \n",
       "385190  0_2104 2021-10-02 20:31:58.645109    s_99070     c_999   7.98      0   \n",
       "585923  0_1743 2021-09-07 21:27:09.304623    s_86516     c_999   5.99      0   \n",
       "\n",
       "       sex  birth  age   date_fixe  total_ventes  ventes_mensuelles  \n",
       "449848   m   1955   68  2022-07-01            39                3.0  \n",
       "542680   m   1955   68  2022-05-08            39                3.0  \n",
       "169172   m   1955   68  2022-06-27            39                3.0  \n",
       "318801   m   1955   68  2021-11-04            39                3.0  \n",
       "583828   m   1955   68  2021-12-19            39                3.0  \n",
       "...     ..    ...  ...         ...           ...                ...  \n",
       "308937   m   1964   59  2023-01-28            46                4.0  \n",
       "235560   m   1964   59  2021-08-23            46                4.0  \n",
       "92930    m   1964   59  2021-09-10            46                4.0  \n",
       "385190   m   1964   59  2021-10-02            46                4.0  \n",
       "585923   m   1964   59  2021-09-07            46                4.0  \n",
       "\n",
       "[679111 rows x 12 columns]"
      ]
     },
     "execution_count": 50,
     "metadata": {},
     "output_type": "execute_result"
    }
   ],
   "source": [
    "df_tpc['date_fixe'] = df_tpc['date'].dt.date \n",
    "df_tpc = df_tpc.merge(df_tpc.groupby('client_id').count()['date'].reset_index().rename(columns={'date': 'total_ventes'}), how='left', on='client_id')\n",
    "df_tpc['ventes_mensuelles'] = round(df_tpc['total_ventes'] / 12)\n",
    "df_tpc.sort_values(by='client_id')"
   ]
  },
  {
   "cell_type": "code",
   "execution_count": 51,
   "id": "6796737e",
   "metadata": {},
   "outputs": [
    {
     "data": {
      "text/html": [
       "<div>\n",
       "<style scoped>\n",
       "    .dataframe tbody tr th:only-of-type {\n",
       "        vertical-align: middle;\n",
       "    }\n",
       "\n",
       "    .dataframe tbody tr th {\n",
       "        vertical-align: top;\n",
       "    }\n",
       "\n",
       "    .dataframe thead th {\n",
       "        text-align: right;\n",
       "    }\n",
       "</style>\n",
       "<table border=\"1\" class=\"dataframe\">\n",
       "  <thead>\n",
       "    <tr style=\"text-align: right;\">\n",
       "      <th></th>\n",
       "      <th>price</th>\n",
       "      <th>categ</th>\n",
       "      <th>birth</th>\n",
       "      <th>age</th>\n",
       "      <th>total_ventes</th>\n",
       "      <th>ventes_mensuelles</th>\n",
       "    </tr>\n",
       "  </thead>\n",
       "  <tbody>\n",
       "    <tr>\n",
       "      <th>count</th>\n",
       "      <td>679111.000000</td>\n",
       "      <td>679111.000000</td>\n",
       "      <td>679111.000000</td>\n",
       "      <td>679111.000000</td>\n",
       "      <td>679111.000000</td>\n",
       "      <td>679111.000000</td>\n",
       "    </tr>\n",
       "    <tr>\n",
       "      <th>mean</th>\n",
       "      <td>17.454773</td>\n",
       "      <td>0.441953</td>\n",
       "      <td>1977.811149</td>\n",
       "      <td>45.188851</td>\n",
       "      <td>1314.735478</td>\n",
       "      <td>109.560590</td>\n",
       "    </tr>\n",
       "    <tr>\n",
       "      <th>std</th>\n",
       "      <td>18.328998</td>\n",
       "      <td>0.595042</td>\n",
       "      <td>13.575361</td>\n",
       "      <td>13.575361</td>\n",
       "      <td>4947.838568</td>\n",
       "      <td>412.316528</td>\n",
       "    </tr>\n",
       "    <tr>\n",
       "      <th>min</th>\n",
       "      <td>0.620000</td>\n",
       "      <td>0.000000</td>\n",
       "      <td>1929.000000</td>\n",
       "      <td>19.000000</td>\n",
       "      <td>1.000000</td>\n",
       "      <td>0.000000</td>\n",
       "    </tr>\n",
       "    <tr>\n",
       "      <th>25%</th>\n",
       "      <td>8.870000</td>\n",
       "      <td>0.000000</td>\n",
       "      <td>1970.000000</td>\n",
       "      <td>36.000000</td>\n",
       "      <td>65.000000</td>\n",
       "      <td>5.000000</td>\n",
       "    </tr>\n",
       "    <tr>\n",
       "      <th>50%</th>\n",
       "      <td>13.990000</td>\n",
       "      <td>0.000000</td>\n",
       "      <td>1980.000000</td>\n",
       "      <td>43.000000</td>\n",
       "      <td>123.000000</td>\n",
       "      <td>10.000000</td>\n",
       "    </tr>\n",
       "    <tr>\n",
       "      <th>75%</th>\n",
       "      <td>18.990000</td>\n",
       "      <td>1.000000</td>\n",
       "      <td>1987.000000</td>\n",
       "      <td>53.000000</td>\n",
       "      <td>224.000000</td>\n",
       "      <td>19.000000</td>\n",
       "    </tr>\n",
       "    <tr>\n",
       "      <th>max</th>\n",
       "      <td>300.000000</td>\n",
       "      <td>2.000000</td>\n",
       "      <td>2004.000000</td>\n",
       "      <td>94.000000</td>\n",
       "      <td>25488.000000</td>\n",
       "      <td>2124.000000</td>\n",
       "    </tr>\n",
       "  </tbody>\n",
       "</table>\n",
       "</div>"
      ],
      "text/plain": [
       "               price          categ          birth            age  \\\n",
       "count  679111.000000  679111.000000  679111.000000  679111.000000   \n",
       "mean       17.454773       0.441953    1977.811149      45.188851   \n",
       "std        18.328998       0.595042      13.575361      13.575361   \n",
       "min         0.620000       0.000000    1929.000000      19.000000   \n",
       "25%         8.870000       0.000000    1970.000000      36.000000   \n",
       "50%        13.990000       0.000000    1980.000000      43.000000   \n",
       "75%        18.990000       1.000000    1987.000000      53.000000   \n",
       "max       300.000000       2.000000    2004.000000      94.000000   \n",
       "\n",
       "        total_ventes  ventes_mensuelles  \n",
       "count  679111.000000      679111.000000  \n",
       "mean     1314.735478         109.560590  \n",
       "std      4947.838568         412.316528  \n",
       "min         1.000000           0.000000  \n",
       "25%        65.000000           5.000000  \n",
       "50%       123.000000          10.000000  \n",
       "75%       224.000000          19.000000  \n",
       "max     25488.000000        2124.000000  "
      ]
     },
     "execution_count": 51,
     "metadata": {},
     "output_type": "execute_result"
    }
   ],
   "source": [
    "df_tpc.describe()"
   ]
  },
  {
   "cell_type": "code",
   "execution_count": 52,
   "id": "40b7c97c",
   "metadata": {},
   "outputs": [],
   "source": [
    "df_cli = pd.merge(df_age, df_tpc[['client_id','total_ventes','ventes_mensuelles']], how='left', on=['client_id'])\n",
    "df_cli['panier_moyen']=round((df_cli[\"Chiffre d'affaires\"]/df_cli['total_ventes']),2)\n",
    "df_cli.drop_duplicates(inplace=True)"
   ]
  },
  {
   "cell_type": "code",
   "execution_count": 53,
   "id": "1430492a",
   "metadata": {},
   "outputs": [
    {
     "data": {
      "text/html": [
       "<div>\n",
       "<style scoped>\n",
       "    .dataframe tbody tr th:only-of-type {\n",
       "        vertical-align: middle;\n",
       "    }\n",
       "\n",
       "    .dataframe tbody tr th {\n",
       "        vertical-align: top;\n",
       "    }\n",
       "\n",
       "    .dataframe thead th {\n",
       "        text-align: right;\n",
       "    }\n",
       "</style>\n",
       "<table border=\"1\" class=\"dataframe\">\n",
       "  <thead>\n",
       "    <tr style=\"text-align: right;\">\n",
       "      <th></th>\n",
       "      <th>client_id</th>\n",
       "      <th>Chiffre d'affaires</th>\n",
       "      <th>Pourcentage</th>\n",
       "      <th>sex</th>\n",
       "      <th>birth</th>\n",
       "      <th>age</th>\n",
       "      <th>total_ventes</th>\n",
       "      <th>ventes_mensuelles</th>\n",
       "      <th>panier_moyen</th>\n",
       "    </tr>\n",
       "  </thead>\n",
       "  <tbody>\n",
       "    <tr>\n",
       "      <th>0</th>\n",
       "      <td>c_1</td>\n",
       "      <td>558.18</td>\n",
       "      <td>0.00</td>\n",
       "      <td>m</td>\n",
       "      <td>1955</td>\n",
       "      <td>68</td>\n",
       "      <td>39</td>\n",
       "      <td>3.0</td>\n",
       "      <td>14.31</td>\n",
       "    </tr>\n",
       "    <tr>\n",
       "      <th>39</th>\n",
       "      <td>c_10</td>\n",
       "      <td>1353.60</td>\n",
       "      <td>0.01</td>\n",
       "      <td>m</td>\n",
       "      <td>1956</td>\n",
       "      <td>67</td>\n",
       "      <td>58</td>\n",
       "      <td>5.0</td>\n",
       "      <td>23.34</td>\n",
       "    </tr>\n",
       "    <tr>\n",
       "      <th>97</th>\n",
       "      <td>c_100</td>\n",
       "      <td>254.85</td>\n",
       "      <td>0.00</td>\n",
       "      <td>m</td>\n",
       "      <td>1992</td>\n",
       "      <td>31</td>\n",
       "      <td>8</td>\n",
       "      <td>1.0</td>\n",
       "      <td>31.86</td>\n",
       "    </tr>\n",
       "    <tr>\n",
       "      <th>105</th>\n",
       "      <td>c_1000</td>\n",
       "      <td>2261.89</td>\n",
       "      <td>0.02</td>\n",
       "      <td>f</td>\n",
       "      <td>1966</td>\n",
       "      <td>57</td>\n",
       "      <td>125</td>\n",
       "      <td>10.0</td>\n",
       "      <td>18.10</td>\n",
       "    </tr>\n",
       "    <tr>\n",
       "      <th>230</th>\n",
       "      <td>c_1001</td>\n",
       "      <td>1812.86</td>\n",
       "      <td>0.02</td>\n",
       "      <td>m</td>\n",
       "      <td>1982</td>\n",
       "      <td>41</td>\n",
       "      <td>102</td>\n",
       "      <td>8.0</td>\n",
       "      <td>17.77</td>\n",
       "    </tr>\n",
       "  </tbody>\n",
       "</table>\n",
       "</div>"
      ],
      "text/plain": [
       "    client_id  Chiffre d'affaires  Pourcentage sex  birth  age  total_ventes  \\\n",
       "0         c_1              558.18         0.00   m   1955   68            39   \n",
       "39       c_10             1353.60         0.01   m   1956   67            58   \n",
       "97      c_100              254.85         0.00   m   1992   31             8   \n",
       "105    c_1000             2261.89         0.02   f   1966   57           125   \n",
       "230    c_1001             1812.86         0.02   m   1982   41           102   \n",
       "\n",
       "     ventes_mensuelles  panier_moyen  \n",
       "0                  3.0         14.31  \n",
       "39                 5.0         23.34  \n",
       "97                 1.0         31.86  \n",
       "105               10.0         18.10  \n",
       "230                8.0         17.77  "
      ]
     },
     "execution_count": 53,
     "metadata": {},
     "output_type": "execute_result"
    }
   ],
   "source": [
    "df_par = df_cli.drop(df_cli[(df_cli['client_id']==\"c_1609\")|(df_cli['client_id']==\"c_4958\")|(df_cli['client_id']==\"c_6714\")|(df_cli['client_id']==\"c_3454\")].index)\n",
    "df_par.head()"
   ]
  },
  {
   "cell_type": "code",
   "execution_count": 54,
   "id": "22896e37",
   "metadata": {},
   "outputs": [
    {
     "data": {
      "text/plain": [
       "client_id              object\n",
       "Chiffre d'affaires    float64\n",
       "Pourcentage           float64\n",
       "dtype: object"
      ]
     },
     "execution_count": 54,
     "metadata": {},
     "output_type": "execute_result"
    }
   ],
   "source": [
    "df_conso.dtypes"
   ]
  },
  {
   "cell_type": "markdown",
   "id": "28fede51",
   "metadata": {},
   "source": [
    "## Courbe de Lorenz et Indice de Gini"
   ]
  },
  {
   "cell_type": "code",
   "execution_count": 55,
   "id": "0770afde",
   "metadata": {},
   "outputs": [
    {
     "data": {
      "image/png": "[encoded data removed]",
      "text/plain": [
       "<Figure size 432x288 with 1 Axes>"
      ]
     },
     "metadata": {
      "needs_background": "light"
     },
     "output_type": "display_data"
    },
    {
     "name": "stdout",
     "output_type": "stream",
     "text": [
      "Indice de Gini : 0.44638654137401435\n"
     ]
    }
   ],
   "source": [
    "depenses = df_cli[df_cli[\"Chiffre d'affaires\"] > 0]\n",
    "dep = depenses[\"Chiffre d'affaires\"].values\n",
    "n = len(dep)\n",
    "lorenz = np.cumsum(np.sort(dep)) / dep.sum()\n",
    "lorenz = np.append([0],lorenz) # La courbe de Lorenz commence à 0\n",
    "\n",
    "xaxis = np.linspace(0-1/n,1+1/n,n+1) #Il y a un segment de taille n pour chaque individu, plus 1 segment supplémentaire d'ordonnée 0. Le premier segment commence à 0-1/n, et le dernier termine à 1+1/n.\n",
    "plt.plot(xaxis,lorenz,drawstyle='steps-post')\n",
    "a = np.arange(0,1,.01)\n",
    "x = a\n",
    "y = a  \n",
    "sns.lineplot(x=x,y=y)\n",
    "plt.title('Courbe de Lorenz avec tous les clients', fontsize=16, y=1.1, weight='bold')\n",
    "plt.show()\n",
    "AUC = (lorenz.sum() -lorenz[-1]/2 -lorenz[0]/2)/n # Surface sous la courbe de Lorenz(Area Under the Curve). Le premier segment (lorenz[0]) est à moitié en dessous de 0, on le coupe donc en 2, on fait de même pour le dernier segment lorenz[-1] qui est à moitié au dessus de 1.\n",
    "S = 0.5 - AUC # Surface entre la première bissectrice et la courbe de Lorenz\n",
    "gini = 2*S\n",
    "print('Indice de Gini :', gini)"
   ]
  },
  {
   "cell_type": "markdown",
   "id": "82074a55",
   "metadata": {},
   "source": [
    "L'indice es plus proche de 0 si la distribution est equilibré, plus proche de 1, plus inegalitaire est la distribution de dépenses."
   ]
  },
  {
   "cell_type": "markdown",
   "id": "d5116c9e",
   "metadata": {},
   "source": [
    "## Courbe de Lorenz et Indice de Gini sans les comptes pro"
   ]
  },
  {
   "cell_type": "code",
   "execution_count": 56,
   "id": "1c2a598c",
   "metadata": {},
   "outputs": [
    {
     "data": {
      "image/png": "[encoded data removed]",
      "text/plain": [
       "<Figure size 432x288 with 1 Axes>"
      ]
     },
     "metadata": {
      "needs_background": "light"
     },
     "output_type": "display_data"
    },
    {
     "name": "stdout",
     "output_type": "stream",
     "text": [
      "Indice de Gini : 0.40261686549497766\n"
     ]
    }
   ],
   "source": [
    "depenses = df_par[df_par[\"Chiffre d'affaires\"] > 0]\n",
    "dep = depenses[\"Chiffre d'affaires\"].values\n",
    "n = len(dep)\n",
    "lorenz = np.cumsum(np.sort(dep)) / dep.sum()\n",
    "lorenz = np.append([0],lorenz) # La courbe de Lorenz commence à 0\n",
    "\n",
    "xaxis = np.linspace(0-1/n,1+1/n,n+1) #Il y a un segment de taille n pour chaque individu, plus 1 segment supplémentaire d'ordonnée 0. Le premier segment commence à 0-1/n, et le dernier termine à 1+1/n.\n",
    "plt.plot(xaxis,lorenz,drawstyle='steps-post')\n",
    "a = np.arange(0,1,.01)\n",
    "x = a\n",
    "y = a  \n",
    "sns.lineplot(x=x,y=y)\n",
    "plt.title('Courbe de Lorenz des clients particuliers', fontsize=16, y=1.1, weight='bold')\n",
    "plt.show()\n",
    "AUC = (lorenz.sum() -lorenz[-1]/2 -lorenz[0]/2)/n # Surface sous la courbe de Lorenz(Area Under the Curve). Le premier segment (lorenz[0]) est à moitié en dessous de 0, on le coupe donc en 2, on fait de même pour le dernier segment lorenz[-1] qui est à moitié au dessus de 1.\n",
    "S = 0.5 - AUC # Surface entre la première bissectrice et le courbe de Lorenz\n",
    "gini = 2*S\n",
    "print('Indice de Gini :', gini)"
   ]
  },
  {
   "cell_type": "markdown",
   "id": "57d8b877",
   "metadata": {},
   "source": [
    "-le lien entre le genre d’un client et les catégories des livres achetés ; (X2?)\n",
    "\n",
    "-et ensuite le lien entre l’âge des clients et le montant total des achats(Student?), la fréquence d’achat, la taille du panier moyen et les catégories des livres achetés.\n"
   ]
  },
  {
   "cell_type": "markdown",
   "id": "41e14ef8",
   "metadata": {},
   "source": [
    "## Requêtes Julie"
   ]
  },
  {
   "cell_type": "code",
   "execution_count": 57,
   "id": "0a09eba0",
   "metadata": {},
   "outputs": [
    {
     "data": {
      "image/png": "[encoded data removed]",
      "text/plain": [
       "<Figure size 1152x432 with 2 Axes>"
      ]
     },
     "metadata": {
      "needs_background": "light"
     },
     "output_type": "display_data"
    }
   ],
   "source": [
    "fig, ax = plt.subplots(figsize=(16, 6))\n",
    "sns.heatmap(df_par.corr(), ax=ax, annot=True, cmap='BrBG')\n",
    "plt.title('Correlation heatmap', fontdict={'fontsize':16}, pad=16)\n",
    "plt.show()"
   ]
  },
  {
   "cell_type": "markdown",
   "id": "edeeecb1",
   "metadata": {},
   "source": [
    "### Catégorie et sexe (X^2)"
   ]
  },
  {
   "cell_type": "code",
   "execution_count": 58,
   "id": "b0699c91",
   "metadata": {},
   "outputs": [
    {
     "data": {
      "image/png": "[encoded data removed]",
      "text/plain": [
       "<Figure size 402.375x360 with 1 Axes>"
      ]
     },
     "metadata": {
      "needs_background": "light"
     },
     "output_type": "display_data"
    }
   ],
   "source": [
    "sns.displot(data=df_tpc, x='sex', hue='categ')\n",
    "plt.title('Ventes par sexe et catégorie', fontsize=16, y=1.1, weight='bold')\n",
    "plt.ylabel(\"Nombre de ventes\",fontsize=12, weight='bold')\n",
    "plt.xlabel('Sexe',fontsize=12, weight='bold')\n",
    "plt.show()"
   ]
  },
  {
   "cell_type": "code",
   "execution_count": 59,
   "id": "eda7e93e",
   "metadata": {},
   "outputs": [
    {
     "data": {
      "text/html": [
       "<div>\n",
       "<style scoped>\n",
       "    .dataframe tbody tr th:only-of-type {\n",
       "        vertical-align: middle;\n",
       "    }\n",
       "\n",
       "    .dataframe tbody tr th {\n",
       "        vertical-align: top;\n",
       "    }\n",
       "\n",
       "    .dataframe thead th {\n",
       "        text-align: right;\n",
       "    }\n",
       "</style>\n",
       "<table border=\"1\" class=\"dataframe\">\n",
       "  <thead>\n",
       "    <tr style=\"text-align: right;\">\n",
       "      <th>sex</th>\n",
       "      <th>f</th>\n",
       "      <th>m</th>\n",
       "    </tr>\n",
       "    <tr>\n",
       "      <th>categ</th>\n",
       "      <th></th>\n",
       "      <th></th>\n",
       "    </tr>\n",
       "  </thead>\n",
       "  <tbody>\n",
       "    <tr>\n",
       "      <th>0</th>\n",
       "      <td>206103</td>\n",
       "      <td>209356</td>\n",
       "    </tr>\n",
       "    <tr>\n",
       "      <th>1</th>\n",
       "      <td>114899</td>\n",
       "      <td>112270</td>\n",
       "    </tr>\n",
       "    <tr>\n",
       "      <th>2</th>\n",
       "      <td>17283</td>\n",
       "      <td>19200</td>\n",
       "    </tr>\n",
       "  </tbody>\n",
       "</table>\n",
       "</div>"
      ],
      "text/plain": [
       "sex         f       m\n",
       "categ                \n",
       "0      206103  209356\n",
       "1      114899  112270\n",
       "2       17283   19200"
      ]
     },
     "execution_count": 59,
     "metadata": {},
     "output_type": "execute_result"
    }
   ],
   "source": [
    "df_count = pd.crosstab(df_tpc.categ, df_tpc.sex , margins=False)\n",
    "df_count #Tableau de contingence"
   ]
  },
  {
   "cell_type": "markdown",
   "id": "793eddd9",
   "metadata": {},
   "source": [
    "On pose les hypothèses de départ :\n",
    "\n",
    "H0 : Variables indépendantes si p-value > 5%\n",
    "\n",
    "H1 : Variables non indépendantes si p-value < 5%"
   ]
  },
  {
   "cell_type": "code",
   "execution_count": 60,
   "id": "2a5d1d44",
   "metadata": {},
   "outputs": [
    {
     "name": "stdout",
     "output_type": "stream",
     "text": [
      "Le p-value est de 1.13109805970906e-32 donc on peut rejeter l'hypothèse H0, alors on voit une dépendence de ces variables.\n"
     ]
    }
   ],
   "source": [
    "from scipy.stats import chi2_contingency\n",
    "Khi2_obs, p_value, ddl, effectif_theorique = chi2_contingency(df_count)\n",
    "print(f\"Le p-value est de {p_value} donc on peut rejeter l'hypothèse H0, alors on voit une dépendence de ces variables.\")"
   ]
  },
  {
   "cell_type": "markdown",
   "id": "947629e9",
   "metadata": {},
   "source": [
    "### Âge des clients et le montant total des achats (ANOVA ou Kruskal-Wallis Test)"
   ]
  },
  {
   "cell_type": "code",
   "execution_count": 61,
   "id": "80ea9f89",
   "metadata": {},
   "outputs": [
    {
     "name": "stdout",
     "output_type": "stream",
     "text": [
      "H1: Une ou plusieurs des moyennes des échantillons sont inégales\n"
     ]
    }
   ],
   "source": [
    "myNom = df_par['age']\n",
    "myScale = df_par[\"Chiffre d'affaires\"]\n",
    "\n",
    "myCat1 = myNom <= 31\n",
    "myCat2 = myNom.between(32,51)\n",
    "myCat3 = myNom >=52\n",
    "\n",
    "myCatScores1 =myScale[myCat1].dropna()\n",
    "myCatScores2 =myScale[myCat2].dropna()\n",
    "myCatScores3 =myScale[myCat3].dropna()\n",
    "stat, p =f_oneway(myCatScores1, myCatScores2, myCatScores3)  #ANOVA test si distribution normale\n",
    "if p > .05:\n",
    "    print('H0: Les moyennes des groupes son égales')\n",
    "else:\n",
    "    print('H1: Une ou plusieurs des moyennes des échantillons sont inégales')"
   ]
  },
  {
   "cell_type": "code",
   "execution_count": 62,
   "id": "c31efd06",
   "metadata": {},
   "outputs": [
    {
     "data": {
      "image/png": "[encoded data removed]",
      "text/plain": [
       "<Figure size 432x288 with 1 Axes>"
      ]
     },
     "metadata": {
      "needs_background": "light"
     },
     "output_type": "display_data"
    }
   ],
   "source": [
    "plt.hist(x=df_par[\"Chiffre d'affaires\"], bins='auto', color='#0504aa', alpha=0.7, rwidth=0.85)\n",
    "plt.show()"
   ]
  },
  {
   "cell_type": "code",
   "execution_count": 63,
   "id": "f979624c",
   "metadata": {},
   "outputs": [
    {
     "data": {
      "text/plain": [
       "AndersonResult(statistic=228.62716588492185, critical_values=array([0.576, 0.656, 0.787, 0.918, 1.091]), significance_level=array([15. , 10. ,  5. ,  2.5,  1. ]))"
      ]
     },
     "execution_count": 63,
     "metadata": {},
     "output_type": "execute_result"
    }
   ],
   "source": [
    "anderson(df_par[\"Chiffre d'affaires\"], dist='norm') #Normality test"
   ]
  },
  {
   "cell_type": "markdown",
   "id": "f749c043",
   "metadata": {},
   "source": [
    "Non-paramétrique (les données ne suivent pas une distribution normale)"
   ]
  },
  {
   "cell_type": "code",
   "execution_count": 64,
   "id": "6c3b8973",
   "metadata": {},
   "outputs": [
    {
     "name": "stdout",
     "output_type": "stream",
     "text": [
      "H1: Une ou plusieurs des moyennes des échantillons sont inégales\n"
     ]
    }
   ],
   "source": [
    "stat, p =st.kruskal(myCatScores1 , myCatScores2, myCatScores3) #Kruskal-Wallis Test pour variables non-paramétriques\n",
    "if p > .05:\n",
    "    print('H0: Les moyennes des groupes son égales')\n",
    "else:\n",
    "    print('H1: Une ou plusieurs des moyennes des échantillons sont inégales')"
   ]
  },
  {
   "cell_type": "code",
   "execution_count": 65,
   "id": "cfa1e836",
   "metadata": {},
   "outputs": [
    {
     "data": {
      "image/png": "[encoded data removed]",
      "text/plain": [
       "<Figure size 1152x288 with 1 Axes>"
      ]
     },
     "metadata": {
      "needs_background": "light"
     },
     "output_type": "display_data"
    }
   ],
   "source": [
    "plt.figure(figsize=(16,4))\n",
    "sns.boxplot(\n",
    "    data=df_par.pivot_table(index=['client_id']),\n",
    "    y=\"Chiffre d'affaires\", x='age', showfliers=False, showmeans=True)\n",
    "plt.xticks(rotation=90)\n",
    "plt.title(\"Chiffre d'affaires par âge\", fontsize=16, y=1.1, weight='bold')\n",
    "plt.ylabel(\"Chiffre d'affaires\",fontsize=12, weight='bold')\n",
    "plt.xlabel('Âge',fontsize=12, weight='bold')\n",
    "plt.show()"
   ]
  },
  {
   "cell_type": "markdown",
   "id": "0bd6d5e4",
   "metadata": {},
   "source": [
    "H1: Une ou plusieurs des moyennes des échantillons sont inégales. (p> 0.05)"
   ]
  },
  {
   "cell_type": "markdown",
   "id": "2d36a04b",
   "metadata": {},
   "source": [
    "### Âge et la fréquence d’achat (Kruskal-Wallis Test)"
   ]
  },
  {
   "cell_type": "code",
   "execution_count": 66,
   "id": "9075b338",
   "metadata": {},
   "outputs": [
    {
     "data": {
      "image/png": "[encoded data removed]",
      "text/plain": [
       "<Figure size 1152x288 with 1 Axes>"
      ]
     },
     "metadata": {
      "needs_background": "light"
     },
     "output_type": "display_data"
    }
   ],
   "source": [
    "plt.figure(figsize=(16,4))\n",
    "sns.boxplot(\n",
    "    data=df_par.pivot_table(index=['client_id']),\n",
    "    y='ventes_mensuelles', x='age', showfliers=False, showmeans=True)\n",
    "plt.xticks(rotation=90)\n",
    "plt.title('Ventes mensuelles par âge', fontsize=16, y=1.1, weight='bold')\n",
    "plt.ylabel(\"Ventes mensuelles\",fontsize=12, weight='bold')\n",
    "plt.xlabel('Âge',fontsize=12, weight='bold')\n",
    "plt.show()"
   ]
  },
  {
   "cell_type": "code",
   "execution_count": 67,
   "id": "81ec1999",
   "metadata": {},
   "outputs": [
    {
     "data": {
      "text/plain": [
       "AndersonResult(statistic=486.31821770831266, critical_values=array([0.576, 0.656, 0.787, 0.918, 1.091]), significance_level=array([15. , 10. ,  5. ,  2.5,  1. ]))"
      ]
     },
     "execution_count": 67,
     "metadata": {},
     "output_type": "execute_result"
    }
   ],
   "source": [
    "anderson(df_par[\"ventes_mensuelles\"], dist='norm') #Normality test"
   ]
  },
  {
   "cell_type": "markdown",
   "id": "f439c49a",
   "metadata": {},
   "source": [
    "Non-paramétrique (les données ne suivent pas une distribution normale)"
   ]
  },
  {
   "cell_type": "code",
   "execution_count": 68,
   "id": "042d05a0",
   "metadata": {},
   "outputs": [
    {
     "name": "stdout",
     "output_type": "stream",
     "text": [
      "H1: Une ou plusieurs des moyennes des échantillons sont inégales\n"
     ]
    }
   ],
   "source": [
    "myNom = df_par['age']\n",
    "myScale = df_par[\"ventes_mensuelles\"]\n",
    "\n",
    "myCat1 = myNom <= 31\n",
    "myCat2 = myNom.between(32,51)\n",
    "myCat3 = myNom >=52\n",
    "\n",
    "myCatScores1 =myScale[myCat1].dropna()\n",
    "myCatScores2 =myScale[myCat2].dropna()\n",
    "myCatScores3 =myScale[myCat3].dropna()\n",
    "stat, p = st.kruskal(myCatScores1 , myCatScores2, myCatScores3) #Kruskal-Wallis Test pour variables non-paramétriques\n",
    "if p > .05:\n",
    "    print('H0: Les moyennes des groupes son égales')\n",
    "else:\n",
    "    print('H1: Une ou plusieurs des moyennes des échantillons sont inégales')"
   ]
  },
  {
   "cell_type": "markdown",
   "id": "0d786d7c",
   "metadata": {},
   "source": [
    "### Âge et la taille du panier moyen (Kruskal-Wallis Test)"
   ]
  },
  {
   "cell_type": "code",
   "execution_count": 69,
   "id": "e80cdebc",
   "metadata": {},
   "outputs": [
    {
     "data": {
      "image/png": "[encoded data removed]",
      "text/plain": [
       "<Figure size 1152x288 with 1 Axes>"
      ]
     },
     "metadata": {
      "needs_background": "light"
     },
     "output_type": "display_data"
    }
   ],
   "source": [
    "plt.figure(figsize=(16,4))\n",
    "sns.boxplot(\n",
    "    data=df_par.pivot_table(index=['client_id']),\n",
    "    y='panier_moyen', x='age', showfliers=False, showmeans=True)\n",
    "plt.xticks(rotation=90)\n",
    "plt.title('Panier moyen par âge', fontsize=16, y=1.1, weight='bold')\n",
    "plt.ylabel(\"Panier moyen\",fontsize=12, weight='bold')\n",
    "plt.xlabel('Âge',fontsize=12, weight='bold')\n",
    "plt.show()"
   ]
  },
  {
   "cell_type": "code",
   "execution_count": 70,
   "id": "05f86481",
   "metadata": {},
   "outputs": [
    {
     "data": {
      "text/plain": [
       "AndersonResult(statistic=1003.066654996097, critical_values=array([0.576, 0.656, 0.787, 0.918, 1.091]), significance_level=array([15. , 10. ,  5. ,  2.5,  1. ]))"
      ]
     },
     "execution_count": 70,
     "metadata": {},
     "output_type": "execute_result"
    }
   ],
   "source": [
    "anderson(df_par[\"panier_moyen\"], dist='norm') #Normality test"
   ]
  },
  {
   "cell_type": "markdown",
   "id": "1472208c",
   "metadata": {},
   "source": [
    "Non-paramétrique (les données ne suivent pas une distribution normale)"
   ]
  },
  {
   "cell_type": "code",
   "execution_count": 71,
   "id": "a9d3a6dd",
   "metadata": {},
   "outputs": [
    {
     "name": "stdout",
     "output_type": "stream",
     "text": [
      "H1: Une ou plusieurs des moyennes des échantillons sont inégales\n"
     ]
    }
   ],
   "source": [
    "myNom = df_par['age']\n",
    "myScale = df_par[\"panier_moyen\"]\n",
    "\n",
    "myCat1 = myNom <= 31\n",
    "myCat2 = myNom.between(32,51)\n",
    "myCat3 = myNom >=52\n",
    "\n",
    "myCatScores1 =myScale[myCat1].dropna()\n",
    "myCatScores2 =myScale[myCat2].dropna()\n",
    "myCatScores3 =myScale[myCat3].dropna()\n",
    "stat, p = st.kruskal(myCatScores1 , myCatScores2, myCatScores3) #Kruskal-Wallis Test pour variables non-paramétriques\n",
    "if p > .05:\n",
    "    print('H0: Les moyennes des groupes son égales')\n",
    "else:\n",
    "    print('H1: Une ou plusieurs des moyennes des échantillons sont inégales')"
   ]
  },
  {
   "cell_type": "markdown",
   "id": "96180505",
   "metadata": {},
   "source": [
    "### Catégorie et âge (Kruskal-Wallis Test)"
   ]
  },
  {
   "cell_type": "code",
   "execution_count": 72,
   "id": "d34db234",
   "metadata": {},
   "outputs": [
    {
     "data": {
      "image/png": "[encoded data removed]",
      "text/plain": [
       "<Figure size 432x288 with 1 Axes>"
      ]
     },
     "metadata": {
      "needs_background": "light"
     },
     "output_type": "display_data"
    }
   ],
   "source": [
    "sns.boxplot(data=df_tpc, x='age', y='categ', orient='h', showfliers=False, showmeans=True)\n",
    "plt.title('Distribution des âges par catégorie', fontsize=16, y=1.1, weight='bold')\n",
    "plt.ylabel(\"Catégorie\",fontsize=12, weight='bold')\n",
    "plt.xlabel('Âge',fontsize=12, weight='bold')\n",
    "plt.show()"
   ]
  },
  {
   "cell_type": "code",
   "execution_count": 73,
   "id": "99e68dfb",
   "metadata": {},
   "outputs": [
    {
     "data": {
      "image/png": "[encoded data removed]",
      "text/plain": [
       "<Figure size 402.375x360 with 1 Axes>"
      ]
     },
     "metadata": {
      "needs_background": "light"
     },
     "output_type": "display_data"
    }
   ],
   "source": [
    "sns.displot(data=df_tpc, x='age', hue='categ', kind='kde', fill=True)\n",
    "plt.title('Nombre des transactions par âge et catégorie', fontsize=16, y=1.1, weight='bold')\n",
    "plt.ylabel(\"Densité\",fontsize=12, weight='bold')\n",
    "plt.xlabel('Âge',fontsize=12, weight='bold')\n",
    "plt.show()"
   ]
  },
  {
   "cell_type": "code",
   "execution_count": 74,
   "id": "3114c573",
   "metadata": {},
   "outputs": [
    {
     "data": {
      "text/plain": [
       "AndersonResult(statistic=53.76347105611603, critical_values=array([0.576, 0.656, 0.787, 0.918, 1.091]), significance_level=array([15. , 10. ,  5. ,  2.5,  1. ]))"
      ]
     },
     "execution_count": 74,
     "metadata": {},
     "output_type": "execute_result"
    }
   ],
   "source": [
    "anderson(df_par[\"age\"], dist='norm') #Normality test"
   ]
  },
  {
   "cell_type": "markdown",
   "id": "8438f81d",
   "metadata": {},
   "source": [
    "Non-paramétrique (les données ne suivent pas une distribution normale)"
   ]
  },
  {
   "cell_type": "code",
   "execution_count": 75,
   "id": "93adfc4f",
   "metadata": {},
   "outputs": [
    {
     "name": "stdout",
     "output_type": "stream",
     "text": [
      "H1: Une ou plusieurs des moyennes des échantillons sont inégales\n"
     ]
    }
   ],
   "source": [
    "myNom = df_tpc['age']\n",
    "myScale = df_tpc[\"categ\"]\n",
    "\n",
    "myCat1 = myNom <= 31\n",
    "myCat2 = myNom.between(32,51)\n",
    "myCat3 = myNom >=52\n",
    "\n",
    "myCatScores1 =myScale[myCat1].dropna()\n",
    "myCatScores2 =myScale[myCat2].dropna()\n",
    "myCatScores3 =myScale[myCat3].dropna()\n",
    "stat, p = st.kruskal(myCatScores1 , myCatScores2, myCatScores3) #Kruskal-Wallis Test pour variables non-paramétriques\n",
    "if p > .05:\n",
    "    print('H0: Les moyennes des groupes son égales')\n",
    "else:\n",
    "    print('H1: Une ou plusieurs des moyennes des échantillons sont inégales')"
   ]
  }
 ],
 "metadata": {
  "kernelspec": {
   "display_name": "Python 3 (ipykernel)",
   "language": "python",
   "name": "python3"
  },
  "language_info": {
   "codemirror_mode": {
    "name": "ipython",
    "version": 3
   },
   "file_extension": ".py",
   "mimetype": "text/x-python",
   "name": "python",
   "nbconvert_exporter": "python",
   "pygments_lexer": "ipython3",
   "version": "3.9.12"
  }
 },
 "nbformat": 4,
 "nbformat_minor": 5
}
